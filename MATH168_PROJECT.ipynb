{
  "nbformat": 4,
  "nbformat_minor": 0,
  "metadata": {
    "colab": {
      "provenance": []
    },
    "kernelspec": {
      "name": "python3",
      "display_name": "Python 3"
    },
    "language_info": {
      "name": "python"
    }
  },
  "cells": [
    {
      "cell_type": "code",
      "execution_count": 1,
      "metadata": {
        "id": "IT3Cfr9jBqeo"
      },
      "outputs": [],
      "source": [
        "import pandas as pd\n",
        "import numpy as np\n",
        "import networkx as nx\n",
        "from random import seed, random\n",
        "from google.colab import files\n",
        "import matplotlib.pyplot as plt"
      ]
    },
    {
      "cell_type": "markdown",
      "source": [
        "# load data"
      ],
      "metadata": {
        "id": "4A_ediDYKLrs"
      }
    },
    {
      "cell_type": "code",
      "source": [
        "# load the collaboration network (ca-GrQc)\n",
        "# J. Leskovec, J. Kleinberg and C. Faloutsos. Graph Evolution: Densification and Shrinking Diameters. ACM Transactions on Knowledge Discovery from Data (ACM TKDD), 1(1), 2007.\n",
        "\n",
        "with open('collaboration_network.txt', 'r') as file:\n",
        "    lines = file.readlines()\n",
        "\n",
        "G_collab = nx.Graph()\n",
        "for line in lines:\n",
        "    node1, node2 = map(int, line.strip().split('\\t'))\n",
        "    G_collab.add_edge(node1, node2)"
      ],
      "metadata": {
        "id": "hgU7e8A9Lo7j"
      },
      "execution_count": 2,
      "outputs": []
    },
    {
      "cell_type": "code",
      "source": [
        "# load the Wikipedia vote network (ca-GrQc)\n",
        "# J. Leskovec, D. Huttenlocher, J. Kleinberg. Signed Networks in Social Media. CHI 2010.\n",
        "# J. Leskovec, D. Huttenlocher, J. Kleinberg. Predicting Positive and Negative Links in Online Social Networks. WWW 2010.\n",
        "\n",
        "with open('Wiki_Vote_network.txt', 'r') as file:\n",
        "    lines = file.readlines()\n",
        "\n",
        "G_wiki = nx.Graph()\n",
        "for line in lines:\n",
        "    node1, node2 = map(int, line.strip().split('\\t'))\n",
        "    G_wiki.add_edge(node1, node2)"
      ],
      "metadata": {
        "id": "YRcdwWXQNtSA"
      },
      "execution_count": 3,
      "outputs": []
    },
    {
      "cell_type": "code",
      "source": [
        "# load the Bitcoin OTC trust weighted signed network\n",
        "# S. Kumar, F. Spezzano, V.S. Subrahmanian, C. Faloutsos. Edge Weight Prediction in Weighted Signed Networks. IEEE International Conference on Data Mining (ICDM), 2016.\n",
        "# S. Kumar, B. Hooi, D. Makhija, M. Kumar, V.S. Subrahmanian, C. Faloutsos. REV2: Fraudulent User Prediction in Rating Platforms. 11th ACM International Conference on Web Searchand Data Mining (WSDM), 2018.\n",
        "\n",
        "df_bitcoin = pd.read_csv('./sign_bitcoin_network.csv', names=['source', 'target', 'rating', 'time'])\n",
        "\n",
        "G_bitcoin = nx.Graph()\n",
        "for index, row in df_bitcoin.iterrows():\n",
        "  node1, node2 = row['source'], row['target']\n",
        "  G_bitcoin.add_edge(node1, node2)"
      ],
      "metadata": {
        "id": "1duLwDwqPzdg"
      },
      "execution_count": 4,
      "outputs": []
    },
    {
      "cell_type": "code",
      "source": [
        "# contruct a ER graph\n",
        "\n",
        "G_ER = nx.erdos_renyi_graph(500, 0.06)"
      ],
      "metadata": {
        "id": "VnS7Fl9PSCEF"
      },
      "execution_count": 5,
      "outputs": []
    },
    {
      "cell_type": "code",
      "source": [
        "df_magazine = pd.read_csv('./Magazine_Subscriptions.csv', names=['asin', 'reviewerID', 'overall', 'unixReviewTime'])\n",
        "\n",
        "train_edges = []\n",
        "test_edges = []\n",
        "\n",
        "train_users = set()\n",
        "test_users = set()\n",
        "\n",
        "items = set()\n",
        "\n",
        "train_test_ratio = 0.9\n",
        "seed(42)\n",
        "\n",
        "for index, row in df_magazine.iterrows():\n",
        "    items.add(row['asin'])\n",
        "    # randomly split users into train and test sets\n",
        "    if row['reviewerID'] in train_users:\n",
        "      train_edges.append((row['asin'], row['reviewerID']))\n",
        "    elif row['reviewerID'] in test_users:\n",
        "      test_edges.append((row['asin'], row['reviewerID']))\n",
        "    else:\n",
        "      if random() < train_test_ratio:\n",
        "        train_users.add(row['reviewerID'])\n",
        "        train_edges.append((row['asin'], row['reviewerID']))\n",
        "      else:\n",
        "        test_users.add(row['reviewerID'])\n",
        "        test_edges.append((row['asin'], row['reviewerID']))\n",
        "\n",
        "G_magazine = nx.Graph()\n",
        "G_magazine.add_nodes_from(train_users, bipartite=0)\n",
        "G_magazine.add_nodes_from(items, bipartite=1)\n",
        "G_magazine.add_edges_from(train_edges)"
      ],
      "metadata": {
        "id": "Ms-D-PsZVK24"
      },
      "execution_count": 45,
      "outputs": []
    },
    {
      "cell_type": "markdown",
      "source": [
        "# Quantifying Rich-Club Using Method Proposed by Zhou et al."
      ],
      "metadata": {
        "id": "Jzx4JyYXButS"
      }
    },
    {
      "cell_type": "code",
      "source": [
        "def phi_Zhou(G):\n",
        "  degrees = dict(G.degree())\n",
        "  second_largest_degree = sorted(degrees.values(), reverse=True)[1]\n",
        "  rich_club_coefficient = np.zeros(second_largest_degree)\n",
        "\n",
        "  for i, k in enumerate(range(second_largest_degree)):\n",
        "    nodes_with_more_than_k_degree = [node for node, degree in degrees.items() if degree >= k]\n",
        "    Nk = len(nodes_with_more_than_k_degree)\n",
        "    Ek = sum(1 for edge in G.edges() if edge[0] in nodes_with_more_than_k_degree and edge[1] in nodes_with_more_than_k_degree)\n",
        "    rich_club_coefficient[i] = Ek / (Nk * (Nk - 1))\n",
        "\n",
        "  return range(second_largest_degree), rich_club_coefficient"
      ],
      "metadata": {
        "id": "lzYySUhyB_Jr"
      },
      "execution_count": 8,
      "outputs": []
    },
    {
      "cell_type": "code",
      "source": [
        "collab_degrees, collab_phi = phi_Zhou(G_collab)\n",
        "wiki_degrees, wiki_phi = phi_Zhou(G_wiki)\n",
        "bitcoin_degrees, bitcoin_phi = phi_Zhou(G_bitcoin)\n",
        "ER_degrees, ER_phi = phi_Zhou(G_ER)"
      ],
      "metadata": {
        "id": "vzWM0ApgMRUC"
      },
      "execution_count": 49,
      "outputs": []
    },
    {
      "cell_type": "code",
      "source": [
        "plt.subplot(2, 2, 1)\n",
        "plt.scatter(collab_degrees, collab_phi, alpha=0.5, marker='s', cmap='viridis')\n",
        "plt.title('coolaboration network')\n",
        "plt.xlabel('k')\n",
        "plt.ylabel(r'$\\rho$(k)')\n",
        "\n",
        "plt.subplot(2, 2, 2)\n",
        "plt.scatter(wiki_degrees, wiki_phi, alpha=0.5, marker='s', cmap='viridis')\n",
        "plt.title('wikipedia voting network')\n",
        "plt.xlabel('k')\n",
        "plt.ylabel(r'$\\rho$(k)')\n",
        "\n",
        "plt.subplot(2, 2, 3)\n",
        "plt.scatter(bitcoin_degrees, bicoin_phi, alpha=0.5, marker='s', cmap='viridis')\n",
        "plt.title('bitcoin network')\n",
        "plt.xlabel('k')\n",
        "plt.ylabel(r'$\\rho$(k)')\n",
        "\n",
        "plt.subplot(2, 2, 4)\n",
        "plt.scatter(ER_degrees, ER_phi, alpha=0.5, marker='s', cmap='viridis')\n",
        "plt.title('ER network')\n",
        "plt.xlabel('k')\n",
        "plt.ylabel(r'$\\rho$(k)')\n",
        "\n",
        "plt.tight_layout()\n",
        "plt.savefig('rich_club_Zhou.png')\n",
        "files.download('rich_club_Zhou.png')"
      ],
      "metadata": {
        "colab": {
          "base_uri": "https://localhost:8080/",
          "height": 645
        },
        "id": "5XBsFLa3Zur1",
        "outputId": "290cc361-135d-4fde-b409-52a63089bca7"
      },
      "execution_count": 58,
      "outputs": [
        {
          "output_type": "stream",
          "name": "stderr",
          "text": [
            "<ipython-input-58-cd98d553186e>:2: UserWarning: No data for colormapping provided via 'c'. Parameters 'cmap' will be ignored\n",
            "  plt.scatter(collab_degrees, collab_phi, alpha=0.5, marker='s', cmap='viridis')\n",
            "<ipython-input-58-cd98d553186e>:8: UserWarning: No data for colormapping provided via 'c'. Parameters 'cmap' will be ignored\n",
            "  plt.scatter(wiki_degrees, wiki_phi, alpha=0.5, marker='s', cmap='viridis')\n",
            "<ipython-input-58-cd98d553186e>:14: UserWarning: No data for colormapping provided via 'c'. Parameters 'cmap' will be ignored\n",
            "  plt.scatter(bitcoin_degrees, bicoin_phi, alpha=0.5, marker='s', cmap='viridis')\n",
            "<ipython-input-58-cd98d553186e>:20: UserWarning: No data for colormapping provided via 'c'. Parameters 'cmap' will be ignored\n",
            "  plt.scatter(ER_degrees, ER_phi, alpha=0.5, marker='s', cmap='viridis')\n"
          ]
        },
        {
          "output_type": "display_data",
          "data": {
            "text/plain": [
              "<IPython.core.display.Javascript object>"
            ],
            "application/javascript": [
              "\n",
              "    async function download(id, filename, size) {\n",
              "      if (!google.colab.kernel.accessAllowed) {\n",
              "        return;\n",
              "      }\n",
              "      const div = document.createElement('div');\n",
              "      const label = document.createElement('label');\n",
              "      label.textContent = `Downloading \"${filename}\": `;\n",
              "      div.appendChild(label);\n",
              "      const progress = document.createElement('progress');\n",
              "      progress.max = size;\n",
              "      div.appendChild(progress);\n",
              "      document.body.appendChild(div);\n",
              "\n",
              "      const buffers = [];\n",
              "      let downloaded = 0;\n",
              "\n",
              "      const channel = await google.colab.kernel.comms.open(id);\n",
              "      // Send a message to notify the kernel that we're ready.\n",
              "      channel.send({})\n",
              "\n",
              "      for await (const message of channel.messages) {\n",
              "        // Send a message to notify the kernel that we're ready.\n",
              "        channel.send({})\n",
              "        if (message.buffers) {\n",
              "          for (const buffer of message.buffers) {\n",
              "            buffers.push(buffer);\n",
              "            downloaded += buffer.byteLength;\n",
              "            progress.value = downloaded;\n",
              "          }\n",
              "        }\n",
              "      }\n",
              "      const blob = new Blob(buffers, {type: 'application/binary'});\n",
              "      const a = document.createElement('a');\n",
              "      a.href = window.URL.createObjectURL(blob);\n",
              "      a.download = filename;\n",
              "      div.appendChild(a);\n",
              "      a.click();\n",
              "      div.remove();\n",
              "    }\n",
              "  "
            ]
          },
          "metadata": {}
        },
        {
          "output_type": "display_data",
          "data": {
            "text/plain": [
              "<IPython.core.display.Javascript object>"
            ],
            "application/javascript": [
              "download(\"download_8e82be7b-edcf-48ef-b9d9-aac561aa7e37\", \"rich_club_Zhou.png\", 40692)"
            ]
          },
          "metadata": {}
        },
        {
          "output_type": "display_data",
          "data": {
            "text/plain": [
              "<Figure size 640x480 with 4 Axes>"
            ],
            "image/png": "[encoded data removed]"
          },
          "metadata": {}
        }
      ]
    },
    {
      "cell_type": "markdown",
      "source": [
        "# Quantifying Rich-Club Using Method Propossed by Colizza et al."
      ],
      "metadata": {
        "id": "tflxWLPuQ0Cq"
      }
    },
    {
      "cell_type": "code",
      "source": [
        "def rho_Colizza(G):\n",
        "  G_ran = nx.configuration_model(dict(G.degree()).values())\n",
        "  degrees, phi = phi_Zhou(G)\n",
        "  _, phi_ran = phi_Zhou(G_ran)\n",
        "\n",
        "  return degrees, phi / phi_ran"
      ],
      "metadata": {
        "id": "iVx0v7QGRB2g"
      },
      "execution_count": 10,
      "outputs": []
    },
    {
      "cell_type": "code",
      "source": [
        "collab_degrees, collab_rho = rho_Colizza(G_collab)\n",
        "wiki_degrees, wiki_rho = rho_Colizza(G_wiki)\n",
        "bitcoin_degrees, bitcoin_rho = rho_Colizza(G_bitcoin)\n",
        "ER_degrees, ER_rho = rho_Colizza(G_ER)"
      ],
      "metadata": {
        "id": "BY3_rU4CSG8F"
      },
      "execution_count": null,
      "outputs": []
    }
  ]
}