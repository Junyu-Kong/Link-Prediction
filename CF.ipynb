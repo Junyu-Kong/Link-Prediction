{
 "cells": [
  {
   "cell_type": "code",
   "execution_count": 1,
   "metadata": {},
   "outputs": [
    {
     "name": "stdout",
     "output_type": "stream",
     "text": [
      "Intel MKL WARNING: Support of Intel(R) Streaming SIMD Extensions 4.2 (Intel(R) SSE4.2) enabled only processors has been deprecated. Intel oneAPI Math Kernel Library 2025.0 will require Intel(R) Advanced Vector Extensions (Intel(R) AVX) instructions.\n",
      "Intel MKL WARNING: Support of Intel(R) Streaming SIMD Extensions 4.2 (Intel(R) SSE4.2) enabled only processors has been deprecated. Intel oneAPI Math Kernel Library 2025.0 will require Intel(R) Advanced Vector Extensions (Intel(R) AVX) instructions.\n"
     ]
    }
   ],
   "source": [
    "import pandas as pd\n",
    "import numpy as np\n",
    "import networkx as nx\n",
    "from random import seed, random\n",
    "import matplotlib.pyplot as plt"
   ]
  },
  {
   "cell_type": "code",
   "execution_count": 18,
   "metadata": {},
   "outputs": [],
   "source": [
    "df = pd.read_csv('./Magazine_Subscriptions.csv', names=['asin', 'reviewerID', 'overall', 'unixReviewTime'])"
   ]
  },
  {
   "cell_type": "code",
   "execution_count": 88,
   "metadata": {},
   "outputs": [
    {
     "data": {
      "text/plain": [
       "(89689, 4)"
      ]
     },
     "execution_count": 88,
     "metadata": {},
     "output_type": "execute_result"
    }
   ],
   "source": [
    "df.shape"
   ]
  },
  {
   "cell_type": "code",
   "execution_count": 156,
   "metadata": {},
   "outputs": [],
   "source": [
    "# split to training and testing datasets by ratio of 6:4\n",
    "from sklearn.model_selection import train_test_split\n",
    "train_set, test_set = train_test_split(df, test_size=0.3, random_state=42)\n",
    "\n",
    "train_edges = []\n",
    "test_edges = []\n",
    "\n",
    "train_users = set()\n",
    "test_users = set()\n",
    "\n",
    "items = set()\n",
    "\n",
    "for index, row in train_set.iterrows():\n",
    "  items.add(row['asin'])\n",
    "  train_edges.append((row['asin'], row['reviewerID']))\n",
    "  train_users.add(row['reviewerID'])\n",
    "\n",
    "for index, row in test_set.iterrows():\n",
    "  items.add(row['asin'])\n",
    "  test_edges.append((row['asin'], row['reviewerID']))\n",
    "  test_users.add(row['reviewerID'])"
   ]
  },
  {
   "cell_type": "code",
   "execution_count": 165,
   "metadata": {},
   "outputs": [],
   "source": [
    "# build graph with training sets\n",
    "G = nx.Graph()\n",
    "G.add_nodes_from(train_users, bipartite=0)\n",
    "G.add_nodes_from(items, bipartite=1)\n",
    "G.add_edges_from(train_edges)"
   ]
  },
  {
   "cell_type": "code",
   "execution_count": 166,
   "metadata": {},
   "outputs": [],
   "source": [
    "# calculate the nodes (users') degree, and remove all edges for degree less or equal than 6\n",
    "# the threshold means we only take account when a person subscribed more than 6 magazines\n",
    "degree_set = dict(G.degree(train_users))\n",
    "min_degree = 2\n",
    "nodes_to_remove_set1 = [node for node, degree in degree_set.items() if min_degree > degree]\n",
    "edges_to_remove_set1 = [(node, neighbor) for node in nodes_to_remove_set1 for neighbor in G.neighbors(node)]\n",
    "G.remove_edges_from(edges_to_remove_set1)\n"
   ]
  },
  {
   "cell_type": "code",
   "execution_count": 167,
   "metadata": {},
   "outputs": [
    {
     "data": {
      "text/plain": [
       "15224"
      ]
     },
     "execution_count": 167,
     "metadata": {},
     "output_type": "execute_result"
    }
   ],
   "source": [
    "# report the current edges\n",
    "G.number_of_edges()"
   ]
  },
  {
   "cell_type": "code",
   "execution_count": 168,
   "metadata": {},
   "outputs": [],
   "source": [
    "# get neighbors\n",
    "def get_neighbors(user_projection, user):\n",
    "\n",
    "    neighbors = user_projection.neighbors(user)\n",
    "    return neighbors"
   ]
  },
  {
   "cell_type": "code",
   "execution_count": 169,
   "metadata": {},
   "outputs": [],
   "source": [
    "# get recommendation list based on information of neighbors\n",
    "def recommendation(G, user_projection, user):\n",
    "    recommendation_list = []\n",
    "    neighbors = get_neighbors(user_projection, user)\n",
    "    for neighbor in neighbors:\n",
    "        for item in items:\n",
    "            if(G.has_edge(neighbor, item)):\n",
    "                if(not G.has_edge(user, item)):\n",
    "                    recommendation_list.append(item)\n",
    "                else:\n",
    "                    continue\n",
    "    return recommendation_list\n"
   ]
  },
  {
   "cell_type": "markdown",
   "metadata": {},
   "source": [
    "#### Naive Model without any further analysis"
   ]
  },
  {
   "cell_type": "code",
   "execution_count": 170,
   "metadata": {},
   "outputs": [],
   "source": [
    "# user-projection\n",
    "user_projection_naive = nx.bipartite.weighted_projected_graph(G, train_users)"
   ]
  },
  {
   "cell_type": "code",
   "execution_count": 171,
   "metadata": {},
   "outputs": [],
   "source": [
    "# clean network by removing all isolating nodes\n",
    "user_projection_naive.remove_nodes_from(list(nx.isolates(user_projection_naive)))"
   ]
  },
  {
   "cell_type": "code",
   "execution_count": 172,
   "metadata": {},
   "outputs": [],
   "source": [
    "# apply to test users to get the recommendation list\n",
    "result_naive = {}\n",
    "count_naive = 0\n",
    "for user in test_users:\n",
    "    if(user_projection_naive.has_node(user)):\n",
    "        result_naive[user] = recommendation(G, user_projection_naive, user)\n",
    "        count_naive += 1"
   ]
  },
  {
   "cell_type": "code",
   "execution_count": 173,
   "metadata": {},
   "outputs": [
    {
     "name": "stdout",
     "output_type": "stream",
     "text": [
      "A34AI73ILO9E2O : ['B00005R8BA', 'B000063XKK', 'B001C4Q06G', 'B00005NIOW', 'B00EVV77A0', 'B00005N7QH', 'B00005N7OV', 'B00005NIOA', 'B00005N7OP', 'B00005N7QW', 'B00005NIOA', 'B000EGCIW8', 'B000FTJ7JQ', 'B00005N7QW', 'B00079RO7G', 'B000ICB4T6', 'B000K0YFVU', 'B000ILY9LW', 'B000XBBZ96', 'B00005N7OV', 'B000IOELH6', 'B00079RO7G', 'B00005UMOT', 'B000IJ84F6', 'B00EVV77A0', 'B00ZG7VQPU', 'B00005N7PN', 'B00007AZWJ', 'B00005NIOA', 'B000W3MB5M', 'B000UMJODW', 'B00015UYBO', 'B00005QJE0', 'B00ZG7VN8K', 'B00005N7QW', 'B000IOE9Y6', 'B000063XJL', 'B00XII1TZQ', 'B019ZV1FJO', 'B00XII1UD2', 'B004AAON6S', 'B00005N7RA', 'B00007IJZT', 'B01CF3ECNK', 'B001LF4EVO', 'B000FTJ7JQ', 'B00005N7PN', 'B000INCK4I', 'B01HBMU68U', 'B001LF4EVO', 'B01H6WOM9Y', 'B00005NIOO', 'B001LF4EVO', 'B000IOE9Y6', 'B000ILUYMK', 'B0037STB02', 'B0193CNAIY', 'B01844RZRE', 'B00005N7U1', 'B000IJ7RQ8', 'B00005N7Q1', 'B015GHGCSA', 'B000UMJODW', 'B00005NIOW', 'B015GHGCT4', 'B00007IJZT', 'B000IOEK7M', 'B00005N7Q1', 'B00005N7QG', 'B00005N7U1', 'B000ILY9LW', 'B00007AWXX', 'B00005NIPE', 'B00006K8H9', 'B00007IJZT', 'B000IOEK7M', 'B00005N7QN', 'B00005N7QG', 'B00005N7SC', 'B000IOE9Y6', 'B00005N7SC', 'B000IOEK7M', 'B015HNWWRS', 'B00005N7OD', 'B000IOE9Y6', 'B000ILY9LW', 'B00005N7QG', 'B000INCK4I', 'B01844RZRE', 'B01CF3ECNK', 'B00X6LREH2', 'B005DNCU20', 'B000FTJ7JQ', 'B000IJ84F6', 'B00007B1C3', 'B00007IJZT', 'B00005QJE0', 'B000W3MB5M', 'B000W3MB5M', 'B00006FXOS', 'B00005N7QG', 'B00005NIOW', 'B000IOEJZ0', 'B000IOEJCI', 'B014RD15S6', 'B000W3MB5M', 'B00PC76P3C', 'B004AAON6S', 'B00007B10Y', 'B000W3MB5M', 'B0037STB02', 'B000IJ7RQ8', 'B00005N7SA', 'B000ICB4T6', 'B00005N7SG', 'B00005N7SG', 'B000ICB4T6', 'B000ENC4AM', 'B00005N7PN', 'B00005N7Q1', 'B00005N7QW', 'B000BW56WO', 'B00007B10Y', 'B004P57EDW', 'B00005UMOT', 'B00I2Y90PM', 'B007FIR1Z2', 'B001DNCAFQ', 'B00005UMOT', 'B000ICB4T6', 'B00005N7QG', 'B0037STB02', 'B000ILVRWQ', 'B00006LCNH', 'B000IJ7RQ8', 'B00005N7SG', 'B000EGCIW8', 'B001C4Q06G', 'B00079RO7G', 'B00005NIOA', 'B00005NIOW', 'B000IOEJBO', 'B00005NIOZ', 'B01CF3ECNK', 'B000IOE9Y6', 'B00005NIND', 'B00005N7QG', 'B000FG5MLQ', 'B00O9K26HC', 'B00005N7QG', 'B000IOE9Y6', 'B015HSVUKS', 'B000IOE9Y6', 'B00006J9HW', 'B00005NIOO', 'B00005NIOA', 'B000OPOEEE', 'B00005N7SL', 'B00005N7SC', 'B000IOELH6', 'B000ILVRWQ', 'B00007AVYI', 'B00007B1AI', 'B001LF4EVO', 'B00F8LWD6A', 'B00005N7U1', 'B00005N7QG', 'B00005N7SM', 'B00005N7QW', 'B00005N7QG', 'B01HI8V10E', 'B000IOE9Y6', 'B00005N7Q1', 'B00005N7T5', 'B00005N7TG', 'B000UMJODW', 'B00007B10Y', 'B000IJ84F6', 'B00005RIGT', 'B00YT73FXY', 'B00005NIPH', 'B00079RO7G', 'B00079RO7G', 'B000ICB4T6', 'B015PRLQDW', 'B00005N7OV', 'B00005NIOW', 'B00005NIPX', 'B00005N7QO', 'B00005R8BL', 'B00005N7QG', 'B000IOE9Y6', 'B00005N7SC', 'B00005N7SA', 'B0037STB02', 'B000IJ7RQ8', 'B000ICB4T6', 'B00005NINY', 'B000063XJL', 'B000ILY9LW', 'B00005NIOD', 'B00005N7TM', 'B00005NIOO', 'B00005N7QG', 'B000IJ84F6', 'B00EZB37X2', 'B00005N7SG', 'B000XXDJ70', 'B001LF4EVO', 'B000IOE9Y6', 'B00005N7QG', 'B00005N7PN', 'B00005N7QW', 'B000IOE9Y6', 'B00005R8BL', 'B00629MFVA', 'B00007AX0N', 'B00005NINY', 'B00005N7PN', 'B000EGCIW8', 'B019CNKSCK', 'B000ILY9LW', 'B00005NIOD', 'B00005N7PN', 'B000XXDJ70', 'B000IOE9Y6', 'B00005N7SM', 'B00005N7QG', 'B00005QDWQ', 'B00005NIOA', 'B005ZHQ110', 'B00005NINY', 'B000IOEK7M', 'B00005N7SC', 'B00006KVLZ', 'B00005N7QG', 'B00005N7SA', 'B00005N7PH', 'B00005N7SG', 'B00007IJZT', 'B00005N7QG', 'B000ILY9LW', 'B00005N7Q1', 'B00005N7QW', 'B000IOE9Y6', 'B00005NIQO', 'B00005N7PN', 'B000IOE9Y6', 'B0160CN1YI', 'B00005NIND', 'B00005N7SL', 'B00005N7U1', 'B00005NIOA', 'B000FTJ7JQ', 'B00005N7QG', 'B00005N7RA', 'B000IOEK7M', 'B000ILZ6VE', 'B00X6LREJU', 'B000IOE9Y6', 'B00007IJZT', 'B000ICB4T6', 'B00005N7QC', 'B000ICB4T6', 'B001LF4EVO', 'B00005R8BL', 'B000A177ZA', 'B00005NIOR', 'B000O1PKOG', 'B00007AWXX', 'B00005N7TH', 'B00D8FZIHE', 'B00005N7RA', 'B00007IJZT', 'B00005N7TG', 'B00005N7QN', 'B00005N7QW', 'B000066T0E', 'B000ICB4T6', 'B00005N7PN', 'B000063XJL', 'B000EGCIW8', 'B00005N7RA', 'B010EJ6MVM', 'B00005NIO6', 'B000IOE9Y6', 'B004AAON6S', 'B00005R8BL', 'B0000CCY9P', 'B010EJ6N0C', 'B00T0KV3M0', 'B00005N7OV', 'B00005N7SN', 'B00006FXOQ', 'B00005N7U1', 'B00005N7PN', 'B000BW56WO', 'B00005NIP7', 'B00007B10Y', 'B000IOEJCI', 'B00005N7U1', 'B00005NIOA', 'B000OPOEEE', 'B001C4Q06G', 'B000ILY9LW', 'B00GYJZ02Y', 'B00079RO7G', 'B00005NIND', 'B00005N7OD', 'B00005NIOA', 'B000060MHU', 'B00GYJYYW6', 'B001LF4EVO', 'B00005NIOA', 'B00005N7TL', 'B015GHGCPI', 'B00005NIOM', 'B00005N7XO', 'B000P6YM0I', 'B00005R8BL', 'B000063XJJ', 'B014RD16A8', 'B01H6WOLSG', 'B015GHGCSA', 'B01H6WOM9Y', 'B015HSVUKS', 'B000FG5MLQ', 'B000ILZ6YQ', 'B001LF4EVO', 'B015D84G12', 'B005DNA3LU', 'B005DNCFP2', 'B00006LB2B', 'B00005N7SM', 'B00005N7TH', 'B00005NINU', 'B0012C1O8C', 'B000BKPPRM', 'B002MRSLK0', 'B00005N7OP', 'B000EGCIW8', 'B00005N7OV', 'B00079RO7G', 'B00005NIOO', 'B00005N7SG', 'B00006LKH1', 'B000OPOEEE', 'B00007G2X5', 'B00007IJZT', 'B00006LKH1', 'B000IOEK7M', 'B00005NIQO', 'B00005R8BL', 'B00006LKH1', 'B000ILY9LW', 'B00005NIN8', 'B015HSVUH6', 'B015HNWWPU', 'B00005NIOA', 'B000IOE9Y6', 'B00005R8BL', 'B000IJ84F6', 'B0037STB02', 'B000IJ7RQ8', 'B0037STB02', 'B000O1PKOG', 'B00006LKH1', 'B000FTJ7JQ', 'B015HSVUKS', 'B00005N7QG', 'B00ZG7VQ64', 'B00005NIPX', 'B00007B10Y', 'B000OPOEEE', 'B019CNKSM0', 'B00005N7QG', 'B019CNKT2Y', 'B00007IJZT', 'B00007B10Y', 'B00005N7QW', 'B00005NIOW', 'B00005N7Q1', 'B000EGCIW8', 'B00005N7S2', 'B000IOEJCI', 'B00005R8BL', 'B00005N7PN', 'B000IOE9Y6', 'B00005N7QG', 'B00005N7QG']\n"
     ]
    }
   ],
   "source": [
    "# show one example of the recommendation\n",
    "for key in result_naive:\n",
    "    print(key, ':', result_naive[key])\n",
    "    break"
   ]
  },
  {
   "cell_type": "code",
   "execution_count": 174,
   "metadata": {},
   "outputs": [],
   "source": [
    "# create recommendation edges for final test\n",
    "result_edges_naive = []\n",
    "for res in result_naive:\n",
    "    for item in result_naive[res]:\n",
    "        result_edges_naive.append((item, res))"
   ]
  },
  {
   "cell_type": "code",
   "execution_count": 175,
   "metadata": {},
   "outputs": [
    {
     "name": "stdout",
     "output_type": "stream",
     "text": [
      "67694\n"
     ]
    }
   ],
   "source": [
    "# count how many recommended magazines are actually subscribed\n",
    "count_res_naive = 0\n",
    "for i in result_edges_naive:\n",
    "    if i in test_edges:\n",
    "        count_res_naive += 1\n",
    "print(count_res_naive)"
   ]
  },
  {
   "cell_type": "code",
   "execution_count": 176,
   "metadata": {},
   "outputs": [
    {
     "data": {
      "text/plain": [
       "0.08904176257809931"
      ]
     },
     "execution_count": 176,
     "metadata": {},
     "output_type": "execute_result"
    }
   ],
   "source": [
    "# predict score\n",
    "hitting_rate_naive = count_res_naive / len(result_edges_naive)\n",
    "hitting_rate_naive"
   ]
  },
  {
   "cell_type": "code",
   "execution_count": 177,
   "metadata": {},
   "outputs": [],
   "source": [
    "import operator"
   ]
  },
  {
   "cell_type": "markdown",
   "metadata": {},
   "source": [
    "#### consider betweenness_centrality to remove some edges"
   ]
  },
  {
   "cell_type": "code",
   "execution_count": 179,
   "metadata": {},
   "outputs": [
    {
     "data": {
      "text/plain": [
       "[(('AC3FQLX5LLVY8', 'A35U1K8RDJAWFC'), 5.4505854555596596e-08),\n",
       " (('A12WZDAAVHBQ4U', 'A1HAO20JJGDOJ8'), 5.4505854555596596e-08),\n",
       " (('A12WZDAAVHBQ4U', 'A32GYTRTQRG8TI'), 5.4505854555596596e-08),\n",
       " (('A12WZDAAVHBQ4U', 'A33Q32BD2TTEF8'), 5.4505854555596596e-08),\n",
       " (('A12WZDAAVHBQ4U', 'ACT2AA008KB31'), 5.4505854555596596e-08)]"
      ]
     },
     "execution_count": 179,
     "metadata": {},
     "output_type": "execute_result"
    }
   ],
   "source": [
    "# find betweeness centrality for user projection and sort\n",
    "ebet = nx.edge_betweenness_centrality(user_projection_naive)\n",
    "sorted_ebet = sorted(ebet.items(), key=operator.itemgetter(1)) \n",
    "sorted_ebet[0:5]"
   ]
  },
  {
   "cell_type": "code",
   "execution_count": 180,
   "metadata": {},
   "outputs": [],
   "source": [
    "# remove node with small betweeness centrality\n",
    "user_projection_bc = user_projection_naive.copy()\n",
    "\n",
    "def remove_small_ebet(graph): \n",
    "    graph.remove_edge(*(sorted_ebet[0][0])) \n",
    "    return graph\n",
    "\n",
    "for i in range(100):\n",
    "    user_projection_bc=remove_small_ebet(user_projection_bc)\n",
    "    sorted_ebet = sorted_ebet[1:]\n"
   ]
  },
  {
   "cell_type": "code",
   "execution_count": 181,
   "metadata": {},
   "outputs": [
    {
     "name": "stdout",
     "output_type": "stream",
     "text": [
      "67694\n"
     ]
    },
    {
     "data": {
      "text/plain": [
       "0.08904176257809931"
      ]
     },
     "execution_count": 181,
     "metadata": {},
     "output_type": "execute_result"
    }
   ],
   "source": [
    "# redo the recommendation process as naive method\n",
    "result_bc = {}\n",
    "count_bc = 0\n",
    "for user in test_users:\n",
    "    if(user_projection_bc.has_node(user)):\n",
    "        result_bc[user] = recommendation(G, user_projection_bc, user)\n",
    "        count_bc += 1\n",
    "\n",
    "result_edges_bc = []\n",
    "for res in result_bc:\n",
    "    for item in result_bc[res]:\n",
    "        result_edges_bc.append((item, res))\n",
    "\n",
    "count_res_bc = 0\n",
    "for i in result_edges_bc:\n",
    "    if i in test_edges:\n",
    "        count_res_bc += 1\n",
    "print(count_res_bc)\n",
    "hitting_rate_bc = count_res_bc / len(result_edges_bc)\n",
    "hitting_rate_bc"
   ]
  },
  {
   "cell_type": "code",
   "execution_count": null,
   "metadata": {},
   "outputs": [],
   "source": []
  },
  {
   "cell_type": "markdown",
   "metadata": {},
   "source": [
    "Consider Jaccard centrality"
   ]
  },
  {
   "cell_type": "code",
   "execution_count": 182,
   "metadata": {},
   "outputs": [],
   "source": [
    "def remove_edges_below_jaccard_threshold(graph, threshold):\n",
    "    jaccard_coefficients = {}\n",
    "\n",
    "    # Calculate Jaccard coefficients for all pairs of nodes\n",
    "    for edge in graph.edges():\n",
    "        node_i, node_j = edge\n",
    "\n",
    "        neighbors_i = set(graph.neighbors(node_i))\n",
    "        neighbors_j = set(graph.neighbors(node_j))\n",
    "\n",
    "        # Calculate Jaccard coefficient\n",
    "        jaccard_coefficient_value = len(neighbors_i.intersection(neighbors_j)) / len(neighbors_i.union(neighbors_j))\n",
    "\n",
    "        # Store the Jaccard coefficient for the edge\n",
    "        jaccard_coefficients[edge] = jaccard_coefficient_value\n",
    "\n",
    "    # Identify edges with Jaccard coefficients below the threshold\n",
    "    edges_to_remove = [edge for edge, coefficient in jaccard_coefficients.items() if coefficient < threshold]\n",
    "\n",
    "    # Remove the identified edges from the graph\n",
    "    graph.remove_edges_from(edges_to_remove)\n",
    "\n",
    "    return graph"
   ]
  },
  {
   "cell_type": "code",
   "execution_count": 183,
   "metadata": {},
   "outputs": [],
   "source": [
    "user_projection_jc = user_projection_naive.copy()\n"
   ]
  },
  {
   "cell_type": "code",
   "execution_count": 184,
   "metadata": {},
   "outputs": [],
   "source": [
    "user_projection_jc_clean = remove_edges_below_jaccard_threshold(user_projection_jc, 0.5)\n"
   ]
  },
  {
   "cell_type": "code",
   "execution_count": 185,
   "metadata": {},
   "outputs": [
    {
     "data": {
      "text/plain": [
       "299265"
      ]
     },
     "execution_count": 185,
     "metadata": {},
     "output_type": "execute_result"
    }
   ],
   "source": [
    "user_projection_jc_clean.number_of_edges()"
   ]
  },
  {
   "cell_type": "code",
   "execution_count": 186,
   "metadata": {},
   "outputs": [
    {
     "data": {
      "text/plain": [
       "5530"
      ]
     },
     "execution_count": 186,
     "metadata": {},
     "output_type": "execute_result"
    }
   ],
   "source": [
    "user_projection_jc_clean.remove_nodes_from(list(nx.isolates(user_projection_jc_clean)))\n",
    "user_projection_jc_clean.number_of_nodes()"
   ]
  },
  {
   "cell_type": "code",
   "execution_count": 187,
   "metadata": {},
   "outputs": [
    {
     "name": "stdout",
     "output_type": "stream",
     "text": [
      "41421\n"
     ]
    },
    {
     "data": {
      "text/plain": [
       "0.27682837990469633"
      ]
     },
     "execution_count": 187,
     "metadata": {},
     "output_type": "execute_result"
    }
   ],
   "source": [
    "result_jc = {}\n",
    "count_jc = 0\n",
    "for user in test_users:\n",
    "    if(user_projection_jc_clean.has_node(user)):\n",
    "        result_jc[user] = recommendation(G, user_projection_jc_clean, user)\n",
    "        count_jc += 1\n",
    "\n",
    "result_edges_jc = []\n",
    "for res in result_jc:\n",
    "    for item in result_jc[res]:\n",
    "        result_edges_jc.append((item, res))\n",
    "\n",
    "count_res_jc = 0\n",
    "for i in result_edges_jc:\n",
    "    if i in test_edges:\n",
    "        count_res_jc += 1\n",
    "print(count_res_jc)\n",
    "hitting_rate_jc = count_res_jc / len(result_edges_jc)\n",
    "hitting_rate_jc"
   ]
  },
  {
   "cell_type": "code",
   "execution_count": 188,
   "metadata": {},
   "outputs": [
    {
     "name": "stdout",
     "output_type": "stream",
     "text": [
      "          Naive Model  Between Centrality Based  Jaccard Coefficient\n",
      "Accuracy     0.089042                  0.089042             0.276828\n"
     ]
    }
   ],
   "source": [
    "data = {\n",
    "    \"Naive Model\": [hitting_rate_naive],\n",
    "    \"Between Centrality Based\": [hitting_rate_bc],\n",
    "    \"Jaccard Coefficient\": [hitting_rate_jc]\n",
    "}\n",
    "final_report = pd.DataFrame(data, index = [\"Accuracy\"])\n",
    "print(final_report)"
   ]
  },
  {
   "cell_type": "code",
   "execution_count": null,
   "metadata": {},
   "outputs": [],
   "source": []
  },
  {
   "cell_type": "code",
   "execution_count": 191,
   "metadata": {},
   "outputs": [
    {
     "name": "stdout",
     "output_type": "stream",
     "text": [
      "          Naive Model  Between Centrality Based  Jaccard Coefficient  \\\n",
      "Accuracy     0.089042                  0.089042             0.276828   \n",
      "\n",
      "          Global Ranking Method  \n",
      "Accuracy               0.125281  \n"
     ]
    }
   ],
   "source": [
    "data = {\n",
    "    \"Naive Model\": [hitting_rate_naive],\n",
    "    \"Between Centrality Based\": [hitting_rate_bc],\n",
    "    \"Jaccard Coefficient\": [hitting_rate_jc],\n",
    "}\n",
    "final_report = pd.DataFrame(data, index = [\"Accuracy\"])\n",
    "print(final_report)"
   ]
  },
  {
   "cell_type": "code",
   "execution_count": 194,
   "metadata": {},
   "outputs": [
    {
     "name": "stdout",
     "output_type": "stream",
     "text": [
      "one example of the naive method:\n",
      "A34AI73ILO9E2O : ['B00005R8BA', 'B000063XKK', 'B001C4Q06G', 'B00005NIOW', 'B00EVV77A0', 'B00005N7QH', 'B00005N7OV', 'B00005NIOA', 'B00005N7OP', 'B00005N7QW', 'B00005NIOA', 'B000EGCIW8', 'B000FTJ7JQ', 'B00005N7QW', 'B00079RO7G', 'B000ICB4T6', 'B000K0YFVU', 'B000ILY9LW', 'B000XBBZ96', 'B00005N7OV', 'B000IOELH6', 'B00079RO7G', 'B00005UMOT', 'B000IJ84F6', 'B00EVV77A0', 'B00ZG7VQPU', 'B00005N7PN', 'B00007AZWJ', 'B00005NIOA', 'B000W3MB5M', 'B000UMJODW', 'B00015UYBO', 'B00005QJE0', 'B00ZG7VN8K', 'B00005N7QW', 'B000IOE9Y6', 'B000063XJL', 'B00XII1TZQ', 'B019ZV1FJO', 'B00XII1UD2', 'B004AAON6S', 'B00005N7RA', 'B00007IJZT', 'B01CF3ECNK', 'B001LF4EVO', 'B000FTJ7JQ', 'B00005N7PN', 'B000INCK4I', 'B01HBMU68U', 'B001LF4EVO', 'B01H6WOM9Y', 'B00005NIOO', 'B001LF4EVO', 'B000IOE9Y6', 'B000ILUYMK', 'B0037STB02', 'B0193CNAIY', 'B01844RZRE', 'B00005N7U1', 'B000IJ7RQ8', 'B00005N7Q1', 'B015GHGCSA', 'B000UMJODW', 'B00005NIOW', 'B015GHGCT4', 'B00007IJZT', 'B000IOEK7M', 'B00005N7Q1', 'B00005N7QG', 'B00005N7U1', 'B000ILY9LW', 'B00007AWXX', 'B00005NIPE', 'B00006K8H9', 'B00007IJZT', 'B000IOEK7M', 'B00005N7QN', 'B00005N7QG', 'B00005N7SC', 'B000IOE9Y6', 'B00005N7SC', 'B000IOEK7M', 'B015HNWWRS', 'B00005N7OD', 'B000IOE9Y6', 'B000ILY9LW', 'B00005N7QG', 'B000INCK4I', 'B01844RZRE', 'B01CF3ECNK', 'B00X6LREH2', 'B005DNCU20', 'B000FTJ7JQ', 'B000IJ84F6', 'B00007B1C3', 'B00007IJZT', 'B00005QJE0', 'B000W3MB5M', 'B000W3MB5M', 'B00006FXOS', 'B00005N7QG', 'B00005NIOW', 'B000IOEJZ0', 'B000IOEJCI', 'B014RD15S6', 'B000W3MB5M', 'B00PC76P3C', 'B004AAON6S', 'B00007B10Y', 'B000W3MB5M', 'B0037STB02', 'B000IJ7RQ8', 'B00005N7SA', 'B000ICB4T6', 'B00005N7SG', 'B00005N7SG', 'B000ICB4T6', 'B000ENC4AM', 'B00005N7PN', 'B00005N7Q1', 'B00005N7QW', 'B000BW56WO', 'B00007B10Y', 'B004P57EDW', 'B00005UMOT', 'B00I2Y90PM', 'B007FIR1Z2', 'B001DNCAFQ', 'B00005UMOT', 'B000ICB4T6', 'B00005N7QG', 'B0037STB02', 'B000ILVRWQ', 'B00006LCNH', 'B000IJ7RQ8', 'B00005N7SG', 'B000EGCIW8', 'B001C4Q06G', 'B00079RO7G', 'B00005NIOA', 'B00005NIOW', 'B000IOEJBO', 'B00005NIOZ', 'B01CF3ECNK', 'B000IOE9Y6', 'B00005NIND', 'B00005N7QG', 'B000FG5MLQ', 'B00O9K26HC', 'B00005N7QG', 'B000IOE9Y6', 'B015HSVUKS', 'B000IOE9Y6', 'B00006J9HW', 'B00005NIOO', 'B00005NIOA', 'B000OPOEEE', 'B00005N7SL', 'B00005N7SC', 'B000IOELH6', 'B000ILVRWQ', 'B00007AVYI', 'B00007B1AI', 'B001LF4EVO', 'B00F8LWD6A', 'B00005N7U1', 'B00005N7QG', 'B00005N7SM', 'B00005N7QW', 'B00005N7QG', 'B01HI8V10E', 'B000IOE9Y6', 'B00005N7Q1', 'B00005N7T5', 'B00005N7TG', 'B000UMJODW', 'B00007B10Y', 'B000IJ84F6', 'B00005RIGT', 'B00YT73FXY', 'B00005NIPH', 'B00079RO7G', 'B00079RO7G', 'B000ICB4T6', 'B015PRLQDW', 'B00005N7OV', 'B00005NIOW', 'B00005NIPX', 'B00005N7QO', 'B00005R8BL', 'B00005N7QG', 'B000IOE9Y6', 'B00005N7SC', 'B00005N7SA', 'B0037STB02', 'B000IJ7RQ8', 'B000ICB4T6', 'B00005NINY', 'B000063XJL', 'B000ILY9LW', 'B00005NIOD', 'B00005N7TM', 'B00005NIOO', 'B00005N7QG', 'B000IJ84F6', 'B00EZB37X2', 'B00005N7SG', 'B000XXDJ70', 'B001LF4EVO', 'B000IOE9Y6', 'B00005N7QG', 'B00005N7PN', 'B00005N7QW', 'B000IOE9Y6', 'B00005R8BL', 'B00629MFVA', 'B00007AX0N', 'B00005NINY', 'B00005N7PN', 'B000EGCIW8', 'B019CNKSCK', 'B000ILY9LW', 'B00005NIOD', 'B00005N7PN', 'B000XXDJ70', 'B000IOE9Y6', 'B00005N7SM', 'B00005N7QG', 'B00005QDWQ', 'B00005NIOA', 'B005ZHQ110', 'B00005NINY', 'B000IOEK7M', 'B00005N7SC', 'B00006KVLZ', 'B00005N7QG', 'B00005N7SA', 'B00005N7PH', 'B00005N7SG', 'B00007IJZT', 'B00005N7QG', 'B000ILY9LW', 'B00005N7Q1', 'B00005N7QW', 'B000IOE9Y6', 'B00005NIQO', 'B00005N7PN', 'B000IOE9Y6', 'B0160CN1YI', 'B00005NIND', 'B00005N7SL', 'B00005N7U1', 'B00005NIOA', 'B000FTJ7JQ', 'B00005N7QG', 'B00005N7RA', 'B000IOEK7M', 'B000ILZ6VE', 'B00X6LREJU', 'B000IOE9Y6', 'B00007IJZT', 'B000ICB4T6', 'B00005N7QC', 'B000ICB4T6', 'B001LF4EVO', 'B00005R8BL', 'B000A177ZA', 'B00005NIOR', 'B000O1PKOG', 'B00007AWXX', 'B00005N7TH', 'B00D8FZIHE', 'B00005N7RA', 'B00007IJZT', 'B00005N7TG', 'B00005N7QN', 'B00005N7QW', 'B000066T0E', 'B000ICB4T6', 'B00005N7PN', 'B000063XJL', 'B000EGCIW8', 'B00005N7RA', 'B010EJ6MVM', 'B00005NIO6', 'B000IOE9Y6', 'B004AAON6S', 'B00005R8BL', 'B0000CCY9P', 'B010EJ6N0C', 'B00T0KV3M0', 'B00005N7OV', 'B00005N7SN', 'B00006FXOQ', 'B00005N7U1', 'B00005N7PN', 'B000BW56WO', 'B00005NIP7', 'B00007B10Y', 'B000IOEJCI', 'B00005N7U1', 'B00005NIOA', 'B000OPOEEE', 'B001C4Q06G', 'B000ILY9LW', 'B00GYJZ02Y', 'B00079RO7G', 'B00005NIND', 'B00005N7OD', 'B00005NIOA', 'B000060MHU', 'B00GYJYYW6', 'B001LF4EVO', 'B00005NIOA', 'B00005N7TL', 'B015GHGCPI', 'B00005NIOM', 'B00005N7XO', 'B000P6YM0I', 'B00005R8BL', 'B000063XJJ', 'B014RD16A8', 'B01H6WOLSG', 'B015GHGCSA', 'B01H6WOM9Y', 'B015HSVUKS', 'B000FG5MLQ', 'B000ILZ6YQ', 'B001LF4EVO', 'B015D84G12', 'B005DNA3LU', 'B005DNCFP2', 'B00006LB2B', 'B00005N7SM', 'B00005N7TH', 'B00005NINU', 'B0012C1O8C', 'B000BKPPRM', 'B002MRSLK0', 'B00005N7OP', 'B000EGCIW8', 'B00005N7OV', 'B00079RO7G', 'B00005NIOO', 'B00005N7SG', 'B00006LKH1', 'B000OPOEEE', 'B00007G2X5', 'B00007IJZT', 'B00006LKH1', 'B000IOEK7M', 'B00005NIQO', 'B00005R8BL', 'B00006LKH1', 'B000ILY9LW', 'B00005NIN8', 'B015HSVUH6', 'B015HNWWPU', 'B00005NIOA', 'B000IOE9Y6', 'B00005R8BL', 'B000IJ84F6', 'B0037STB02', 'B000IJ7RQ8', 'B0037STB02', 'B000O1PKOG', 'B00006LKH1', 'B000FTJ7JQ', 'B015HSVUKS', 'B00005N7QG', 'B00ZG7VQ64', 'B00005NIPX', 'B00007B10Y', 'B000OPOEEE', 'B019CNKSM0', 'B00005N7QG', 'B019CNKT2Y', 'B00007IJZT', 'B00007B10Y', 'B00005N7QW', 'B00005NIOW', 'B00005N7Q1', 'B000EGCIW8', 'B00005N7S2', 'B000IOEJCI', 'B00005R8BL', 'B00005N7PN', 'B000IOE9Y6', 'B00005N7QG', 'B00005N7QG']\n",
      "one example of the naive method:\n",
      "AC3FQLX5LLVY8 : ['B00007AWXX', 'B000HWY1PG', 'B00005N7SC', 'B005DNCFP2', 'B00005N7SA', 'B00EVV77A0', 'B0000AJLX9', 'B00007AWME', 'B00007AX0S', 'B00005N7RJ', 'B00005N7PT', 'B000085A6U', 'B000IMVNQU', 'B00005N7SC', 'B00008KFZF', 'B00007AZWJ', 'B00007B10Y', 'B000BI1O4M', 'B000IOEJ8W', 'B00005R8BA', 'B003K195YI', 'B00007AVYI', 'B005WZHTSY', 'B00007BK3L', 'B00005N7R2', 'B00006KOAX', 'B00005N7XO', 'B00007B10Y', 'B0037STB02', 'B00EZB37X2', 'B00007AZWJ', 'B00005N7OV', 'B000063XJL', 'B000P6YM4Y', 'B00YT73FXY', 'B00005NIOR', 'B000EOTRWY', 'B00007G2YG', 'B001C4Q06G', 'B000063XJI', 'B00005NIN8', 'B00007AX0N', 'B000W3MB5M', 'B00005N7SM', 'B00005N7SC', 'B00005N7SC', 'B000085A6U', 'B00007B10Y', 'B00007BK3L', 'B00005N7SC', 'B00005N7SC', 'B000ILY9LW', 'B00009MQ5C', 'B00005N7Q1', 'B001LF4EVO', 'B00006K3EU', 'B000IOE9Y6', 'B00007AZWJ', 'B000EGCIW8', 'B00005N7PN', 'B00005NIPP', 'B00005N7QE', 'B0000AWD92', 'B00005NIPP', 'B00007B10Y', 'B00005N7SC', 'B00005N7QG', 'B00005R8BL', 'B00005N7PN', 'B00005NIOM', 'B01CF3ECNK', 'B000FTJ7JQ', 'B00005N7SC', 'B00005N7RJ', 'B00005N7PT', 'B00XII1TZQ', 'B00006K5Z6', 'B00006KZK0', 'B00005N7TE', 'B00005N7Q5', 'B000ICB4T6', 'B0000AWD92', 'B00005N7SA', 'B00007B10Y', 'B00005NIPX', 'B00026EFR6', 'B00005N7TL', 'B00005N7S5', 'B00005N7S4', 'B00005NIPP', 'B00005N7P0', 'B00006J9HW', 'B000ILVN1G', 'B005EI5R5Q', 'B01AAQYWZM', 'B00007BK3L', 'B00005N7UW', 'B00005N7PT', 'B00005N7SC', 'B00007BK3L', 'B00005N7PT', 'B00T0KV3M0', 'B00005R8BR', 'B00ATQ6FPY', 'B00007B10Y', 'B000ILVRWQ', 'B000085A6U', 'B00006FXOP', 'B00005N7RD', 'B00007BK3L', 'B00005N7SC', 'B00008DP07', 'B00007B10Y', 'B00EVV77A0', 'B00007AX0N', 'B000IOE9Y6', 'B000ILVRWQ', 'B00005NIP7', 'B0000AWD92', 'B00005NIRE', 'B00005N7QG', 'B00005NIPI', 'B00007BK3L', 'B00007B10Y', 'B005DNCFP2', 'B00005N7SC', 'B000ICB4T6', 'B00026E9XG', 'B00005NIN8', 'B00006KDW3', 'B000K0YFVU', 'B00007B0IM', 'B00EVV77A0', 'B000063XJL', 'B00005NIOA', 'B00EVV77A0', 'B01CF3ECNK', 'B001LF4EVO', 'B000FTJ7JQ', 'B001LF4EVO', 'B00005N7PH', 'B00005N7PG', 'B000IOEJ8W', 'B00XII1TZQ', 'B00005NIOC', 'B005EI3V40', 'B00XII1U3M', 'B00YQH981U', 'B01AAQYWW0', 'B00007AZWJ', 'B00008GT1Z', 'B000BW56WO', 'B00007BK3L', 'B00006KGT1', 'B00005N7QI', 'B000ILY9LW', 'B0000633EA', 'B00005N7QG', 'B00005R8BL', 'B000P6YM4Y', 'B00005N7SG', 'B00007AZWJ', 'B005DNCFP2', 'B00006KFT2', 'B00007B2NM', 'B00007AZWJ', 'B000P6YM4Y', 'B00007BK3L', 'B00007B10Y', 'B00005N7TG', 'B01AAQYXDS', 'B000ILY9LW', 'B00EVV77A0', 'B00005N7Q1', 'B00007BK3L', 'B00005N7SC', 'B00007B10Y', 'B00007AXQ2', 'B000IOE9Y6', 'B00005NIOO', 'B000HWY1PG', 'B0094ICZ0C', 'B0002LCXSY', 'B001LF4EVO', 'B00007BK3L', 'B00026E9XG', 'B000P6YM0I', 'B00005NIOO', 'B00005NIQO', 'B000ICB4X2', 'B000OPOEEE', 'B00005N7SV', 'B00007AZWJ', 'B001LF4EVO', 'B00007BK3L', 'B000ILVRWQ', 'B00005NIOR', 'B00005N7P8', 'B00005RIGT', 'B000060MJC', 'B00007AW07', 'B00008DP07', 'B00006KT0K', 'B000IMVNQU', 'B000060MJD', 'B00006KBA4', 'B000BR3AEU', 'B00007BK3L', 'B00005N7SC', 'B00007B10Y', 'B00005N7RD', 'B00005NIOC', 'B00PE3SNFM', 'B00005N7QE', 'B00006KXX2', 'B00005N7PT', 'B000PATZGK', 'B000IOEJ8W', 'B005DNA3LU', 'B000K0YFVU', 'B000060MGT', 'B00005N7RD', 'B00006K5EF', 'B00007B9L0', 'B00005QJE1', 'B00005N7QI', 'B000063XJL', 'B002PXVY7S', 'B00FDWVIHO', 'B00005N7R5', 'B00005NINY', 'B00007B10Y', 'B000063XKK', 'B00005NIOA', 'B00006J9HW', 'B00005N7RA', 'B00006KH16', 'B00007BK3L', 'B0037STB02', 'B00008UQ0G', 'B00007B10Y', 'B000066HUX', 'B00005N7SL', 'B00005NIPX', 'B00005N7QO', 'B0065MEDRI', 'B00006KPSH', 'B000SXFPCW', 'B00005NIOW', 'B00EVV77A0', 'B00005N7PN', 'B00006FXOV', 'B00005N7Q2', 'B01CF3ECNK', 'B01F2MKW0I', 'B000ILU97A', 'B00GYJYYW6', 'B00006L2Z8', 'B001LF4EVO', 'B000FG5MLQ', 'B000FTJ7JQ', 'B00005NIOZ', 'B00007AXQ2', 'B00005QDWQ', 'B000A177ZA', 'B000ILVZJ6', 'B003K195Y8', 'B00007L0AQ', 'B010EJ6N6G', 'B00005N7OJ', 'B000066T0L', 'B00008BFWB', 'B000225WAY', 'B00005N7QA', 'B00006KSP2', 'B00I8P3HR2', 'B00008DP07', 'B00005N7SC', 'B00007AZRW', 'B000085A6U', 'B00005NIOW', 'B000085A6U', 'B00006AMT4', 'B00005N7PN', 'B00005N7QH', 'B00005N7PS', 'B00005N7SC', 'B00005N7OU', 'B00005R8BL', 'B00005N7TL', 'B00005N7S5', 'B00006KX3K', 'B00005N7PH', 'B00008DP07', 'B00005Q7DZ', 'B00005N7OC', 'B00007AWXX', 'B000A177ZA', 'B00079RO7G', 'B000ICB4T6', 'B0006IZG0U', 'B00005N7RA', 'B00005N7RD', 'B00007IJZT', 'B00005N7TG', 'B00005NIPX', 'B00005N7QN', 'B00005N7Q5', 'B00005N7PH', 'B00F418D5Y', 'B00005N7SC', 'B00007B10Y', 'B00005NIPX', 'B00006KTUG', 'B00005NIOC', 'B00005NIND', 'B00005N7TL', 'B00005N7QI', 'B01HBMU68U', 'B00005NIPX', 'B00006KPMX', 'B00005N7NQ', 'B00005N7RD', 'B00005N7T8', 'B00005N7QG', 'B01F2MKW0I', 'B00005N7SC', 'B00005N7Q1', 'B005YHGI0K', 'B00005N7TL', 'B000IOEJ8W', 'B00007BK3L', 'B00005N7TL', 'B00005N7SC', 'B00005N7QA', 'B00005N7PT', 'B00005N7R7', 'B00007B10Y', 'B000IOELH6', 'B000IOEK7M', 'B00007AXQ2', 'B00005N7RJ', 'B000ICB4X2', 'B00005N7TB', 'B00005NIOW', 'B00005NIN8', 'B005DNA3LU', 'B00005N7QJ', 'B00007B10Y', 'B00005NIPE', 'B00077B7M6', 'B0000DH8GV', 'B001KR0G2Y', 'B00005N7QH', 'B00005N7T3', 'B00005NIOO', 'B0000ARXXS', 'B00005N7TL', 'B000060MJC', 'B00005N7U1', 'B00005N7SG', 'B00005NIOS', 'B00005N7QJ', 'B00005NIOC', 'B00005N7SC', 'B00005N7PT', 'B00007AXEP', 'B000NY15YI', 'B00APQE10Y', 'B00005N7TL', 'B000ILZ6VE', 'B00007AV7N', 'B00007AZWJ', 'B01D4PMVCC', 'B015PRLQIW', 'B000060MGT', 'B00077B7M6', 'B00079RO7G', 'B000IOEJ8W', 'B00005N7U1', 'B000ILZ6VE', 'B00007BK3L', 'B00005N7SM', 'B000ILVN1G', 'B00005N7PT', 'B00005N7SA', 'B00005N7SC', 'B00005N7QG', 'B00005N7SA', 'B003ZK599Y', 'B00005N7SC', 'B0193CNAFM', 'B00XII1U3M', 'B000O1PKOG', 'B00005N7PN', 'B00005N7SC', 'B00005N7OV', 'B00005NIOD', 'B000IJ7RQ8', 'B00005N7PH', 'B00005NIPN', 'B00007AZWJ', 'B000XXDJ70', 'B00005N7P0', 'B00005N7PT', 'B00005N7SA', 'B00008DP07', 'B000ILVRWQ', 'B00008DP07', 'B00005N7SA', 'B00006KEIM', 'B00007BK3L', 'B00005N7SC', 'B00005N7RA', 'B00005N7TG', 'B00005NIOS', 'B00005N7QC', 'B001O2SCKI', 'B000A177ZA', 'B0000AJLX9', 'B00XUMIBJC', 'B01F2MKW0I', 'B000060MJR', 'B000P6YM0I', 'B00005NIOC', 'B00079RO7G', 'B00005N7TL', 'B00005N7SA', 'B00005NIPP', 'B00007IJZT', 'B00007B1AI', 'B00006GXD4', 'B00007B1AI', 'B00079RO7G', 'B004P57EDW', 'B00006KVNV', 'B00005NIPP', 'B000H1R1QI', 'B000ICB4T6', 'B00077B7M6', 'B00005N7NQ', 'B00007AXR5', 'B00007AZXE', 'B0012C1O8C', 'B00007GAK1', 'B01CF3ECNK', 'B000FTJ7JQ', 'B000063XJL', 'B000P6YM4Y', 'B00005N7PH', 'B01F2MKW0I', 'B001O2SCKI', 'B00008GT1Z', 'B000085A6U', 'B00006LIR1', 'B00007AZRW', 'B00005NIOR', 'B00005N7QG', 'B00005N7RJ', 'B000PATZGK', 'B00005N7PT', 'B000063XJL', 'B00007B10Y', 'B000EGCIW8', 'B00005N7PN', 'B000LXHJFK', 'B000085A6U', 'B00007AX0N', 'B00005R8BL', 'B00007B10Y', 'B00005NIOW', 'B000BI1OQA', 'B00005N7SA', 'B000FTJ7BE', 'B001684M22', 'B000EGCIW8', 'B0037STB02', 'B00005R8BL', 'B00005N7TL', 'B00005N7QA', 'B000LXHJFK', 'B00I8P3HR2', 'B00007LN7R', 'B00005N7QI', 'B00008GT1Z', 'B000IMVNQU', 'B0012C1O8C', 'B00007AX0N', 'B00007BK3L', 'B00005N7SA', 'B00005N7SA', 'B00005NIQO', 'B00007AZWJ', 'B00005N7SC', 'B00005NIPP', 'B00007AZWJ', 'B002PXW12A', 'B00005N7RD', 'B00007AZWJ', 'B00007BK3L', 'B00005N7SA', 'B00005NIPX', 'B00005N7QN', 'B00005N7SC', 'B00006J9HW', 'B00005N7SC', 'B00005N7Q1', 'B00VATZI1G', 'B00005NIOW', 'B019CNKTPQ', 'B00005N7Q1', 'B00007BK3P', 'B00005R8BA', 'B00005N7SC', 'B00005N7OV', 'B00005N7QG', 'B00005N7RT', 'B000BW56WO', 'B00006J9HW', 'B00452VA4E', 'B00005N7TL', 'B00005N7QA', 'B00005N7PT', 'B00WNI41JS', 'B00D8GWHYK', 'B00008DP07', 'B000YF6N8O', 'B001W8Q9OU', 'B000IOE9Y6', 'B00007B10Y', 'B00005NIOA', 'B001C4Q06G', 'B00006K33U', 'B00005N7QA', 'B00008NF8I', 'B000ICB4T6', 'B00005N7SC', 'B00007AXQL', 'B00007AXQ2', 'B000P6YM4Y', 'B00005N7OV', 'B00079RO7G', 'B0037STB02', 'B000ILVRWQ', 'B000IJ7RQ8', 'B000IOEK7M', 'B00005N7QH', 'B00007B10Y', 'B00005NIN8', 'B00XII1TZQ', 'B00005N7QA', 'B00I8P3HR2', 'B00EZB37X2', 'B018EDI9R0', 'B000069YW9', 'B000085A6U', 'B00ATQ6FPY', 'B00X6LREHM', 'B00F418DA4', 'B00005N7RA', 'B00005NIOA', 'B00005N7R5']\n",
      "one example of the naive method:\n",
      "AYJBZW4YNOIHD : ['B018EDI9R0', 'B00005N7PH', 'B00005N7PI', 'B00008DP07', 'B00005UMOT', 'B000PIT0RG', 'B00005N7PN', 'B000LE0O74', 'B00005Q7DL', 'B000LE0O74', 'B000LE0O74', 'B000LE0O74', 'B000LE0O74']\n",
      "one example of the naive method:\n",
      "A1P45F64L3UXY6 : ['B00005NIPE', 'B00007AWXX', 'B000A177ZA', 'B00079RO7G', 'B000ICB4T6', 'B0006IZG0U', 'B00005N7RA', 'B00005N7RD', 'B00005NIOH', 'B00005N7TG', 'B00005NIPX', 'B00005N7QN', 'B00005NIOO', 'B000OPOEEE', 'B00005N7SM', 'B00007AVYI', 'B000K0YFVU', 'B00005N7SA', 'B001LF4EVO', 'B000IOE9Y6', 'B00005N7OV', 'B000IOE9Y6', 'B00005N7QH', 'B00005N7OV', 'B00005R8BR', 'B00005N7OP', 'B00005N7QW', 'B00005R8BR', 'B00005R8BR', 'B00005N7SH', 'B00005N7R0', 'B001684M22', 'B000P6YM0I', 'B00005Q7DL', 'B0037STB02', 'B01CF3ECNK', 'B00005NIOW', 'B00005R8BA', 'B00X6LREH2', 'B001LF4EVO', 'B00X6LREJU', 'B0036QY68M', 'B000ILY9LW', 'B000XBBZ96', 'B00005N7OV', 'B000IOELH6', 'B00079RO7G', 'B00005UMOT', 'B000IJ84F6', 'B00EVV77A0', 'B00ZG7VQPU', 'B00005N7PN', 'B00005R8BR', 'B00007AZWJ', 'B000W3MB5M', 'B000UMJODW', 'B00015UYBO', 'B00005QJE0', 'B00ZG7VN8K', 'B00005N7QW', 'B000IOE9Y6', 'B00005N7QG', 'B00005N7RA', 'B00005R8BR', 'B000ILY9LW', 'B00007B10Y', 'B000ILZ6VE', 'B00005NIOR', 'B00005N7OV', 'B00005NIN8', 'B00079RO7G', 'B00005N7QO', 'B00005NIRE', 'B000ICB4X2', 'B00005N7TB', 'B000IOEK7M', 'B00005N7QN', 'B000G6DK5U', 'B001C4Q06G', 'B00079RO7G', 'B00005N7QG', 'B000IJ84F6', 'B00005Q7E6', 'B0007TUQ8K', 'B000K0YFVU', 'B00005N7PN', 'B00005QDWH', 'B014RD15PY', 'B000W3MB5M', 'B001LF4EVO', 'B00005NIP7', 'B00005N7RA', 'B00005N7PN', 'B00005R8BR', 'B00D8FZIHE', 'B0112903IG', 'B014RD15V8', 'B00007B10Y', 'B0000AN43S', 'B01CF3ECNK', 'B00005N7SG', 'B000ILY9LW', 'B00007AWXX', 'B00005NIPE', 'B00006K8H9', 'B00005R8BR', 'B000IOEK7M', 'B00005N7QN', 'B00005NIOW', 'B00005N7QW', 'B000IOE9Y6', 'B00005N7OV', 'B00005NIQO', 'B014RD15V8', 'B014RD16TO', 'B00005UMOT', 'B014RD17WA', 'B014RD169E', 'B01844RZRE', 'B0123ULDTQ', 'B0112903IG', 'B000IOE9Y6', 'B00005NIOD', 'B000XXDJ70', 'B001LF4EVO', 'B00HG1BP0U', 'B000ILY9LW', 'B00005NIOD', 'B00005NIOC', 'B00005UMOT', 'B000ILYHSM', 'B00005N7PN', 'B01CF3ECNK', 'B000XXDJ70', 'B000ILZ6VE', 'B00X6LREJU', 'B000FTJ7JQ', 'B00005N7QW', 'B019CNKSM0', 'B019CNKSIY', 'B00005N7QG', 'B0037STB02', 'B00007B1C3', 'B00005R8BR', 'B000ICB4T6', 'B00005N7PN', 'B000ILZ6VE', 'B00005N7QW', 'B0037STB02', 'B00127ZC5I', 'B000IJ7RQ8', 'B00006KT0K', 'B00005N7QE', 'B000ILZ6VE', 'B00005N7QN', 'B00005N7RA', 'B00WKNNN5Y', 'B00005N7TG', 'B00005N7Q1', 'B000O1PKOG', 'B000IOE9Y6', 'B00005N7RA', 'B00005N7T5', 'B00005R8BR', 'B00077B7M6', 'B0037STB02', 'B000IJ7RQ8', 'B00005N7TG', 'B000IOEK7M', 'B0000AWD92', 'B00007BK3L', 'B019CNKSUM', 'B000XXDJ70', 'B00005N7SB', 'B01HI8V10E', 'B00006J9HW', 'B00005N7QN', 'B00079RO7G', 'B000063XJR', 'B000P6YM0I', 'B00005N7SG', 'B000K0YFVU', 'B000IOEK7M', 'B001LF4EVO', 'B00007AWXX', 'B000BKPPRM', 'B00005N7TG', 'B00005NINY', 'B00005N7QG', 'B00005NIOW', 'B00005NIPE', 'B00005NIOS', 'B000IOEK7M', 'B001LF4EVO', 'B00006KWIC', 'B00005NIOH', 'B00005N7PN', 'B00005NIPP', 'B00005N7QE', 'B000IOEJBO', 'B00005R8BL', 'B000IOE9Y6', 'B00005R8BR', 'B0000633EA', 'B00005N7QG', 'B00005N7TH', 'B000066T0Y', 'B000ICB4X2', 'B00005R8BH', 'B00005Q7DZ', 'B00079RO7G', 'B00005R8BR', 'B00008RUJP', 'B01CF3ECNK', 'B000FTJ7JQ', 'B00005N7PN', 'B00008RUJP', 'B00005N7OV', 'B00005NIOW', 'B00005N7TM', 'B00005N7QG', 'B00005N7SL', 'B00005N7RD', 'B00005NIRE', 'B00005QDWH', 'B00005NINY', 'B00006KFT2', 'B01CF3ECNK', 'B000FTJ7JQ', 'B00006KWIC', 'B019CNKT3S', 'B00005N7Q1', 'B000UMJODW', 'B00X6LREHM', 'B00007AWXX', 'B000ILZ6VE', 'B00005NIPX', 'B00005N7R0', 'B00005N7PG', 'B000ILVRWQ', 'B000INCK4I', 'B005DNAMPM', 'B000060MJC', 'B000IJ7RQ8', 'B00005NIOW', 'B00005NIOO', 'B000BW56WO', 'B000OPOEEE', 'B00022I8AK', 'B00005N7QS', 'B00005N7PN', 'B00006KQUE', 'B000ILYHLY', 'B00EVV77A0', 'B014RD15IQ', 'B000IOE9Y6', 'B00006K37V', 'B000ILZ6VE', 'B00005NIOO', 'B00005R8BR', 'B000OPOEEE', 'B00005N7RA', 'B00005N7QN', 'B00079RO7G', 'B00005NIOO', 'B00005NINU', 'B000IOEK7M', 'B000IOE9Y6', 'B00005NIRG', 'B000P6YM0I', 'B00005N7RA', 'B00005N7OD', 'B00HG1BOV0', 'B001LF4EVO', 'B000ILY9LW', 'B00005NIQO', 'B00005NIOW', 'B00005NIND', 'B00005N7SL', 'B00007AVOQ', 'B000W3MB5M', 'B005FSTOJ0', 'B00005N7PN', 'B00005N7TG', 'B000IOE9Y6', 'B01F25DB58', 'B01F25DCLQ', 'B00005N7QN', 'B00005NIND', 'B001LF4EVO', 'B000IOEK7M', 'B00005NIOH', 'B00007B1AI', 'B00006GXD4', 'B015HSVUIK', 'B00005N7TG', 'B00006LKH1', 'B00005N7OV', 'B019CNKS9I', 'B00005UMOT', 'B00F8LWD6A', 'B019CNKSUM', 'B019CNKSCU', 'B0001MS2D4', 'B00GYJYYW6', 'B00005N7QW', 'B00005N7OV', 'B001684M22', 'B00008NF8I', 'B00005N7PH', 'B00007GAK1', 'B000ICB4X2', 'B00005N7TB', 'B00005NIOW', 'B00005R8BA', 'B000IOE9Y6', 'B000IJ84F6', 'B00005R8BL', 'B001LF4EVO', 'B000IOE9Y6', 'B000IOE9Y6', 'B00005R8BL', 'B00005NINY', 'B00005N7OD', 'B00005N7TG', 'B00005R8BL', 'B00005N7OV', 'B00007B10Y', 'B000IOE9Y6', 'B00007AX0S', 'B00005NIOH', 'B00005NIRS', 'B0037STB02', 'B000IJ7RQ8', 'B001LF4EVO', 'B000K0YFUQ', 'B000IOE9Y6', 'B00EVV77A0', 'B00006LL1D', 'B00007B10Y', 'B00005NIPE', 'B00007AZFU', 'B00006KFT2', 'B000IJ8W8A', 'B00005NIN8', 'B019CNKSCK', 'B00005R8BR', 'B00005N7PN', 'B00005N7PN', 'B00005N7QW', 'B00005N7OV', 'B00005NION', 'B00005R8BR', 'B00005NIOH', 'B00005N7Q5', 'B00EZB37X2', 'B0009GIRVO', 'B014RD15TA', 'B00007AWXX', 'B000ICB4T6', 'B00005N7RA', 'B00005N7SG', 'B00005N7TB', 'B00005N7QN', 'B00005N7OV', 'B019CNKT2Y', 'B00005N7R0', 'B000ILZ6VE', 'B00005N7PH', 'B00005R8BR', 'B00005N7SG', 'B0037STB02', 'B000IOEJBO', 'B00007AXQ2', 'B000IJ7RQ8', 'B01CF3ECNK', 'B000XXDJ70', 'B00005NIP7', 'B000FTJ7JQ', 'B0160CN1YI', 'B00005NIND', 'B00005N7SL', 'B00005N7U1', 'B00005R8BR', 'B000FTJ7JQ', 'B00005R8BR', 'B00005N7Q1', 'B00005NIOH', 'B00007AWXX', 'B00005N7TH', 'B00D8FZIHE', 'B00005N7RA', 'B00005R8BR', 'B00005N7TG', 'B00005N7QN', 'B00005N7QW', 'B000IOE9Y6', 'B00005N7SC', 'B00007AZFU', 'B00077B7M6', 'B000FP2XNM', 'B0006SJ21Y', 'B00008JO2K', 'B01BJ91ZW2', 'B00006K9C1', 'B00008RUJP', 'B00007AVLA', 'B000FTJ7JQ', 'B000063XJL', 'B00005N7RA', 'B010EJ6MVM', 'B00005R8BR', 'B00005NIO6', 'B001LF4EVO', 'B00007BK3L', 'B000FTJ7JQ', 'B00005N7Q2', 'B00005NIPE', 'B00005N7PN', 'B00005N7PN', 'B000IJ84F6', 'B014RD17UM', 'B00EZB37X2', 'B00005N7QG', 'B00005N7PN', 'B01BJ91ZW2', 'B00005N7PN', 'B00005N7QW', 'B00005NIND', 'B00005N7TL', 'B00007B10Y', 'B000IOEJCI', 'B00005N7U1', 'B00005R8BR', 'B000OPOEEE', 'B001C4Q06G', 'B000IOEJCI', 'B000069YW9', 'B000INBBKM', 'B00005N7Q1', 'B00005NIOW', 'B000IOE9Y6', 'B000IJ84F6', 'B00EVV77A0', 'B01CF3ECNK', 'B00005N7QN', 'B000FTJ7JQ', 'B000ILY9LW', 'B00GYJZ02Y', 'B00079RO7G', 'B00005NIND', 'B00005N7OD', 'B00005R8BR', 'B000060MHU', 'B00GYJYYW6', 'B001LF4EVO', 'B00005R8BR', 'B00005N7PN', 'B00008RUJP', 'B00005N7TG', 'B00HG1BP0U', 'B00NH0TAVU', 'B01CF3ECNK', 'B000FTJ7JQ', 'B000ILY9LW', 'B00007B10Y', 'B00005N7QG', 'B0037STB02', 'B00EZB37X2', 'B000IJ7RQ8', 'B00005N7SG', 'B00008RUJP', 'B001LF4EVO', 'B003K195Y8', 'B00008GT1Z', 'B00005NIPX', 'B000IOEJ8W', 'B000IOE9Y6', 'B00005N7QG', 'B00005N7OD', 'B00005NIOS', 'B00VATZIBQ', 'B00005N7PT', 'B00079RO7G', 'B00005R8BR', 'B00005R8BL', 'B000063XJH', 'B00008RUJP', 'B000066HVN', 'B000IOE9Y6', 'B000IOE9Y6', 'B00007G2X5', 'B00005R8BR', 'B00006LKH1', 'B00007B10Y', 'B000063XKK', 'B00005NIOH', 'B00005N7PN', 'B01BJ905FA', 'B00005N7QW', 'B00XII1U3M', 'B00005N7TH', 'B00079RO7G', 'B00005N7T3', 'B00005N7PN', 'B00005R8BR', 'B00006KPLY', 'B00005NIOH', 'B001C4Q06G', 'B00EZB37X2', 'B00007AZWJ', 'B00EVV77A0', 'B01CF3ECNK', 'B00005N7U1', 'B00X6LREH2', 'B000QCSCN4', 'B00008RUJP', 'B01EGFDTYS', 'B00005R8BA', 'B015GHGCN0', 'B014PZ66VM', 'B01EGFDTZW', 'B00008RUJP', 'B01EGFDTHK', 'B00GYJZ02Y', 'B005WZHTSY', 'B000P6YM0I', 'B00005N7SC', 'B00005NIOC', 'B00005R8BL', 'B00005UMOT', 'B00005N7OV', 'B00005UMOT', 'B00005N7S2', 'B000IOEJCI', 'B00005R8BL', 'B00005N7PN', 'B00005R8BR', 'B000IOE9Y6']\n",
      "one example of the method including betweenness centrality:\n",
      "A34AI73ILO9E2O : ['B00005R8BA', 'B000063XKK', 'B001C4Q06G', 'B00005NIOW', 'B00EVV77A0', 'B00005N7QH', 'B00005N7OV', 'B00005NIOA', 'B00005N7OP', 'B00005N7QW', 'B00005NIOA', 'B000EGCIW8', 'B000FTJ7JQ', 'B00005N7QW', 'B00079RO7G', 'B000ICB4T6', 'B000K0YFVU', 'B000ILY9LW', 'B000XBBZ96', 'B00005N7OV', 'B000IOELH6', 'B00079RO7G', 'B00005UMOT', 'B000IJ84F6', 'B00EVV77A0', 'B00ZG7VQPU', 'B00005N7PN', 'B00007AZWJ', 'B00005NIOA', 'B000W3MB5M', 'B000UMJODW', 'B00015UYBO', 'B00005QJE0', 'B00ZG7VN8K', 'B00005N7QW', 'B000IOE9Y6', 'B000063XJL', 'B00XII1TZQ', 'B019ZV1FJO', 'B00XII1UD2', 'B004AAON6S', 'B00005N7RA', 'B00007IJZT', 'B01CF3ECNK', 'B001LF4EVO', 'B000FTJ7JQ', 'B00005N7PN', 'B000INCK4I', 'B01HBMU68U', 'B001LF4EVO', 'B01H6WOM9Y', 'B00005NIOO', 'B001LF4EVO', 'B000IOE9Y6', 'B000ILUYMK', 'B0037STB02', 'B0193CNAIY', 'B01844RZRE', 'B00005N7U1', 'B000IJ7RQ8', 'B00005N7Q1', 'B015GHGCSA', 'B000UMJODW', 'B00005NIOW', 'B015GHGCT4', 'B00007IJZT', 'B000IOEK7M', 'B00005N7Q1', 'B00005N7QG', 'B00005N7U1', 'B000ILY9LW', 'B00007AWXX', 'B00005NIPE', 'B00006K8H9', 'B00007IJZT', 'B000IOEK7M', 'B00005N7QN', 'B00005N7QG', 'B00005N7SC', 'B000IOE9Y6', 'B00005N7SC', 'B000IOEK7M', 'B015HNWWRS', 'B00005N7OD', 'B000IOE9Y6', 'B000ILY9LW', 'B00005N7QG', 'B000INCK4I', 'B01844RZRE', 'B01CF3ECNK', 'B00X6LREH2', 'B005DNCU20', 'B000FTJ7JQ', 'B000IJ84F6', 'B00007B1C3', 'B00007IJZT', 'B00005QJE0', 'B000W3MB5M', 'B000W3MB5M', 'B00006FXOS', 'B00005N7QG', 'B00005NIOW', 'B000IOEJZ0', 'B000IOEJCI', 'B014RD15S6', 'B000W3MB5M', 'B00PC76P3C', 'B004AAON6S', 'B00007B10Y', 'B000W3MB5M', 'B0037STB02', 'B000IJ7RQ8', 'B00005N7SA', 'B000ICB4T6', 'B00005N7SG', 'B00005N7SG', 'B000ICB4T6', 'B000ENC4AM', 'B00005N7PN', 'B00005N7Q1', 'B00005N7QW', 'B000BW56WO', 'B00007B10Y', 'B004P57EDW', 'B00005UMOT', 'B00I2Y90PM', 'B007FIR1Z2', 'B001DNCAFQ', 'B00005UMOT', 'B000ICB4T6', 'B00005N7QG', 'B0037STB02', 'B000ILVRWQ', 'B00006LCNH', 'B000IJ7RQ8', 'B00005N7SG', 'B000EGCIW8', 'B001C4Q06G', 'B00079RO7G', 'B00005NIOA', 'B00005NIOW', 'B000IOEJBO', 'B00005NIOZ', 'B01CF3ECNK', 'B000IOE9Y6', 'B00005NIND', 'B00005N7QG', 'B000FG5MLQ', 'B00O9K26HC', 'B00005N7QG', 'B000IOE9Y6', 'B015HSVUKS', 'B000IOE9Y6', 'B00006J9HW', 'B00005NIOO', 'B00005NIOA', 'B000OPOEEE', 'B00005N7SL', 'B00005N7SC', 'B000IOELH6', 'B000ILVRWQ', 'B00007AVYI', 'B00007B1AI', 'B001LF4EVO', 'B00F8LWD6A', 'B00005N7U1', 'B00005N7QG', 'B00005N7SM', 'B00005N7QW', 'B00005N7QG', 'B01HI8V10E', 'B000IOE9Y6', 'B00005N7Q1', 'B00005N7T5', 'B00005N7TG', 'B000UMJODW', 'B00007B10Y', 'B000IJ84F6', 'B00005RIGT', 'B00YT73FXY', 'B00005NIPH', 'B00079RO7G', 'B00079RO7G', 'B000ICB4T6', 'B015PRLQDW', 'B00005N7OV', 'B00005NIOW', 'B00005NIPX', 'B00005N7QO', 'B00005R8BL', 'B00005N7QG', 'B000IOE9Y6', 'B00005N7SC', 'B00005N7SA', 'B0037STB02', 'B000IJ7RQ8', 'B000ICB4T6', 'B00005NINY', 'B000063XJL', 'B000ILY9LW', 'B00005NIOD', 'B00005N7TM', 'B00005NIOO', 'B00005N7QG', 'B000IJ84F6', 'B00EZB37X2', 'B00005N7SG', 'B000XXDJ70', 'B001LF4EVO', 'B000IOE9Y6', 'B00005N7QG', 'B00005N7PN', 'B00005N7QW', 'B000IOE9Y6', 'B00005R8BL', 'B00629MFVA', 'B00007AX0N', 'B00005NINY', 'B00005N7PN', 'B000EGCIW8', 'B019CNKSCK', 'B000ILY9LW', 'B00005NIOD', 'B00005N7PN', 'B000XXDJ70', 'B000IOE9Y6', 'B00005N7SM', 'B00005N7QG', 'B00005QDWQ', 'B00005NIOA', 'B005ZHQ110', 'B00005NINY', 'B000IOEK7M', 'B00005N7SC', 'B00006KVLZ', 'B00005N7QG', 'B00005N7SA', 'B00005N7PH', 'B00005N7SG', 'B00007IJZT', 'B00005N7QG', 'B000ILY9LW', 'B00005N7Q1', 'B00005N7QW', 'B000IOE9Y6', 'B00005NIQO', 'B00005N7PN', 'B000IOE9Y6', 'B0160CN1YI', 'B00005NIND', 'B00005N7SL', 'B00005N7U1', 'B00005NIOA', 'B000FTJ7JQ', 'B00005N7QG', 'B00005N7RA', 'B000IOEK7M', 'B000ILZ6VE', 'B00X6LREJU', 'B000IOE9Y6', 'B00007IJZT', 'B000ICB4T6', 'B00005N7QC', 'B000ICB4T6', 'B001LF4EVO', 'B00005R8BL', 'B000A177ZA', 'B00005NIOR', 'B000O1PKOG', 'B00007AWXX', 'B00005N7TH', 'B00D8FZIHE', 'B00005N7RA', 'B00007IJZT', 'B00005N7TG', 'B00005N7QN', 'B00005N7QW', 'B000066T0E', 'B000ICB4T6', 'B00005N7PN', 'B000063XJL', 'B000EGCIW8', 'B00005N7RA', 'B010EJ6MVM', 'B00005NIO6', 'B000IOE9Y6', 'B004AAON6S', 'B00005R8BL', 'B0000CCY9P', 'B010EJ6N0C', 'B00T0KV3M0', 'B00005N7OV', 'B00005N7SN', 'B00006FXOQ', 'B00005N7U1', 'B00005N7PN', 'B000BW56WO', 'B00005NIP7', 'B00007B10Y', 'B000IOEJCI', 'B00005N7U1', 'B00005NIOA', 'B000OPOEEE', 'B001C4Q06G', 'B000ILY9LW', 'B00GYJZ02Y', 'B00079RO7G', 'B00005NIND', 'B00005N7OD', 'B00005NIOA', 'B000060MHU', 'B00GYJYYW6', 'B001LF4EVO', 'B00005NIOA', 'B00005N7TL', 'B015GHGCPI', 'B00005NIOM', 'B00005N7XO', 'B000P6YM0I', 'B00005R8BL', 'B000063XJJ', 'B014RD16A8', 'B01H6WOLSG', 'B015GHGCSA', 'B01H6WOM9Y', 'B015HSVUKS', 'B000FG5MLQ', 'B000ILZ6YQ', 'B001LF4EVO', 'B015D84G12', 'B005DNA3LU', 'B005DNCFP2', 'B00006LB2B', 'B00005N7SM', 'B00005N7TH', 'B00005NINU', 'B0012C1O8C', 'B000BKPPRM', 'B002MRSLK0', 'B00005N7OP', 'B000EGCIW8', 'B00005N7OV', 'B00079RO7G', 'B00005NIOO', 'B00005N7SG', 'B00006LKH1', 'B000OPOEEE', 'B00007G2X5', 'B00007IJZT', 'B00006LKH1', 'B000IOEK7M', 'B00005NIQO', 'B00005R8BL', 'B00006LKH1', 'B000ILY9LW', 'B00005NIN8', 'B015HSVUH6', 'B015HNWWPU', 'B00005NIOA', 'B000IOE9Y6', 'B00005R8BL', 'B000IJ84F6', 'B0037STB02', 'B000IJ7RQ8', 'B0037STB02', 'B000O1PKOG', 'B00006LKH1', 'B000FTJ7JQ', 'B015HSVUKS', 'B00005N7QG', 'B00ZG7VQ64', 'B00005NIPX', 'B00007B10Y', 'B000OPOEEE', 'B019CNKSM0', 'B00005N7QG', 'B019CNKT2Y', 'B00007IJZT', 'B00007B10Y', 'B00005N7QW', 'B00005NIOW', 'B00005N7Q1', 'B000EGCIW8', 'B00005N7S2', 'B000IOEJCI', 'B00005R8BL', 'B00005N7PN', 'B000IOE9Y6', 'B00005N7QG', 'B00005N7QG']\n",
      "one example of the method including jaccard similarity coefficient:\n",
      "A34AI73ILO9E2O : ['B00005R8BA', 'B000063XKK', 'B001C4Q06G', 'B00005NIOW', 'B00EVV77A0', 'B00005N7QH', 'B00005N7OV', 'B00005NIOA', 'B00005N7OP', 'B00005N7QW', 'B00005NIOA', 'B000EGCIW8', 'B000FTJ7JQ', 'B00005N7QW', 'B00079RO7G', 'B000ICB4T6', 'B000K0YFVU', 'B000ILY9LW', 'B000XBBZ96', 'B00005N7OV', 'B000IOELH6', 'B00079RO7G', 'B00005UMOT', 'B000IJ84F6', 'B00EVV77A0', 'B00ZG7VQPU', 'B00005N7PN', 'B00007AZWJ', 'B00005NIOA', 'B000W3MB5M', 'B000UMJODW', 'B00015UYBO', 'B00005QJE0', 'B00ZG7VN8K', 'B00005N7QW', 'B000IOE9Y6', 'B000063XJL', 'B00XII1TZQ', 'B019ZV1FJO', 'B00XII1UD2', 'B004AAON6S', 'B00005N7RA', 'B00007IJZT', 'B01CF3ECNK', 'B001LF4EVO', 'B000FTJ7JQ', 'B00005N7PN', 'B000INCK4I', 'B01HBMU68U', 'B001LF4EVO', 'B01H6WOM9Y', 'B00005NIOO', 'B001LF4EVO', 'B000IOE9Y6', 'B000ILUYMK', 'B0037STB02', 'B0193CNAIY', 'B01844RZRE', 'B00005N7U1', 'B000IJ7RQ8', 'B00005N7Q1', 'B015GHGCSA', 'B000UMJODW', 'B00005NIOW', 'B015GHGCT4', 'B00007IJZT', 'B000IOEK7M', 'B00005N7Q1', 'B00005N7QG', 'B00005N7U1', 'B000ILY9LW', 'B00007AWXX', 'B00005NIPE', 'B00006K8H9', 'B00007IJZT', 'B000IOEK7M', 'B00005N7QN', 'B00005N7QG', 'B00005N7SC', 'B000IOE9Y6', 'B00005N7SC', 'B000IOEK7M', 'B015HNWWRS', 'B00005N7OD', 'B000IOE9Y6', 'B000ILY9LW', 'B00005N7QG', 'B000INCK4I', 'B01844RZRE', 'B01CF3ECNK', 'B00X6LREH2', 'B005DNCU20', 'B000FTJ7JQ', 'B000IJ84F6', 'B00007B1C3', 'B00007IJZT', 'B00005QJE0', 'B000W3MB5M', 'B000W3MB5M', 'B00006FXOS', 'B00005N7QG', 'B00005NIOW', 'B000IOEJZ0', 'B000IOEJCI', 'B014RD15S6', 'B000W3MB5M', 'B00PC76P3C', 'B004AAON6S', 'B00007B10Y', 'B000W3MB5M', 'B0037STB02', 'B000IJ7RQ8', 'B00005N7SA', 'B000ICB4T6', 'B00005N7SG', 'B00005N7SG', 'B000ICB4T6', 'B000ENC4AM', 'B00005N7PN', 'B00005N7Q1', 'B00005N7QW', 'B000BW56WO', 'B00007B10Y', 'B004P57EDW', 'B00005UMOT', 'B00I2Y90PM', 'B007FIR1Z2', 'B001DNCAFQ', 'B00005UMOT', 'B000ICB4T6', 'B00005N7QG', 'B0037STB02', 'B000ILVRWQ', 'B00006LCNH', 'B000IJ7RQ8', 'B00005N7SG', 'B000EGCIW8', 'B001C4Q06G', 'B00079RO7G', 'B00005NIOA', 'B00005NIOW', 'B000IOEJBO', 'B00005NIOZ', 'B01CF3ECNK', 'B000IOE9Y6', 'B00005NIND', 'B00005N7QG', 'B000FG5MLQ', 'B00O9K26HC', 'B00005N7QG', 'B000IOE9Y6', 'B015HSVUKS', 'B000IOE9Y6', 'B00006J9HW', 'B00005NIOO', 'B00005NIOA', 'B000OPOEEE', 'B00005N7SL', 'B00005N7SC', 'B000IOELH6', 'B000ILVRWQ', 'B00007AVYI', 'B00007B1AI', 'B001LF4EVO', 'B00F8LWD6A', 'B00005N7U1', 'B00005N7QG', 'B00005N7SM', 'B00005N7QW', 'B00005N7QG', 'B01HI8V10E', 'B000IOE9Y6', 'B00005N7Q1', 'B00005N7T5', 'B00005N7TG', 'B000UMJODW', 'B00007B10Y', 'B000IJ84F6', 'B00005RIGT', 'B00YT73FXY', 'B00005NIPH', 'B00079RO7G', 'B00079RO7G', 'B000ICB4T6', 'B015PRLQDW', 'B00005N7OV', 'B00005NIOW', 'B00005NIPX', 'B00005N7QO', 'B00005R8BL', 'B00005N7QG', 'B000IOE9Y6', 'B00005N7SC', 'B00005N7SA', 'B0037STB02', 'B000IJ7RQ8', 'B000ICB4T6', 'B00005NINY', 'B000063XJL', 'B000ILY9LW', 'B00005NIOD', 'B00005N7TM', 'B00005NIOO', 'B00005N7QG', 'B000IJ84F6', 'B00EZB37X2', 'B00005N7SG', 'B000XXDJ70', 'B001LF4EVO', 'B000IOE9Y6', 'B00005N7QG', 'B00005N7PN', 'B00005N7QW', 'B000IOE9Y6', 'B00005R8BL', 'B00629MFVA', 'B00007AX0N', 'B00005NINY', 'B00005N7PN', 'B000EGCIW8', 'B019CNKSCK', 'B000ILY9LW', 'B00005NIOD', 'B00005N7PN', 'B000XXDJ70', 'B000IOE9Y6', 'B00005N7SM', 'B00005N7QG', 'B00005QDWQ', 'B00005NIOA', 'B005ZHQ110', 'B00005NINY', 'B000IOEK7M', 'B00005N7SC', 'B00006KVLZ', 'B00005N7QG', 'B00005N7SA', 'B00005N7PH', 'B00005N7SG', 'B00007IJZT', 'B00005N7QG', 'B000ILY9LW', 'B00005N7Q1', 'B00005N7QW', 'B000IOE9Y6', 'B00005NIQO', 'B00005N7PN', 'B000IOE9Y6', 'B0160CN1YI', 'B00005NIND', 'B00005N7SL', 'B00005N7U1', 'B00005NIOA', 'B000FTJ7JQ', 'B00005N7QG', 'B00005N7RA', 'B000IOEK7M', 'B000ILZ6VE', 'B00X6LREJU', 'B000IOE9Y6', 'B00007IJZT', 'B000ICB4T6', 'B00005N7QC', 'B000ICB4T6', 'B001LF4EVO', 'B00005R8BL', 'B000A177ZA', 'B00005NIOR', 'B000O1PKOG', 'B00007AWXX', 'B00005N7TH', 'B00D8FZIHE', 'B00005N7RA', 'B00007IJZT', 'B00005N7TG', 'B00005N7QN', 'B00005N7QW', 'B000066T0E', 'B000ICB4T6', 'B00005N7PN', 'B000063XJL', 'B000EGCIW8', 'B00005N7RA', 'B010EJ6MVM', 'B00005NIO6', 'B000IOE9Y6', 'B004AAON6S', 'B00005R8BL', 'B0000CCY9P', 'B010EJ6N0C', 'B00T0KV3M0', 'B00005N7OV', 'B00005N7SN', 'B00006FXOQ', 'B00005N7U1', 'B00005N7PN', 'B000BW56WO', 'B00005NIP7', 'B00007B10Y', 'B000IOEJCI', 'B00005N7U1', 'B00005NIOA', 'B000OPOEEE', 'B001C4Q06G', 'B000ILY9LW', 'B00GYJZ02Y', 'B00079RO7G', 'B00005NIND', 'B00005N7OD', 'B00005NIOA', 'B000060MHU', 'B00GYJYYW6', 'B001LF4EVO', 'B00005NIOA', 'B00005N7TL', 'B015GHGCPI', 'B00005NIOM', 'B00005N7XO', 'B000P6YM0I', 'B00005R8BL', 'B000063XJJ', 'B014RD16A8', 'B01H6WOLSG', 'B015GHGCSA', 'B01H6WOM9Y', 'B015HSVUKS', 'B000FG5MLQ', 'B000ILZ6YQ', 'B001LF4EVO', 'B015D84G12', 'B005DNA3LU', 'B005DNCFP2', 'B00006LB2B', 'B00005N7SM', 'B00005N7TH', 'B00005NINU', 'B0012C1O8C', 'B000BKPPRM', 'B002MRSLK0', 'B00005N7OP', 'B000EGCIW8', 'B00005N7OV', 'B00079RO7G', 'B00005NIOO', 'B00005N7SG', 'B00006LKH1', 'B000OPOEEE', 'B00007G2X5', 'B00007IJZT', 'B00006LKH1', 'B000IOEK7M', 'B00005NIQO', 'B00005R8BL', 'B00006LKH1', 'B000ILY9LW', 'B00005NIN8', 'B015HSVUH6', 'B015HNWWPU', 'B00005NIOA', 'B000IOE9Y6', 'B00005R8BL', 'B000IJ84F6', 'B0037STB02', 'B000IJ7RQ8', 'B0037STB02', 'B000O1PKOG', 'B00006LKH1', 'B000FTJ7JQ', 'B015HSVUKS', 'B00005N7QG', 'B00ZG7VQ64', 'B00005NIPX', 'B00007B10Y', 'B000OPOEEE', 'B019CNKSM0', 'B00005N7QG', 'B019CNKT2Y', 'B00007IJZT', 'B00007B10Y', 'B00005N7QW', 'B00005NIOW', 'B00005N7Q1', 'B000EGCIW8', 'B00005N7S2', 'B000IOEJCI', 'B00005R8BL', 'B00005N7PN', 'B000IOE9Y6', 'B00005N7QG', 'B00005N7QG']\n"
     ]
    }
   ],
   "source": [
    "# show one example of the recommendation\n",
    "# show one example of the recommendation\n",
    "temp = 0\n",
    "for key in result_naive:\n",
    "    print(\"one example of the naive method:\")\n",
    "    print(key, ':', result_bc[key])\n",
    "    temp+=1\n",
    "    if(temp >= 4):\n",
    "        break\n",
    "    \n",
    "# for key in result_bc:\n",
    "#     print(\"one example of the method including betweenness centrality:\")\n",
    "#     print(key, ':', result_bc[key])\n",
    "#     break\n",
    "# # show one example of the recommendation\n",
    "# for key in result_jc:\n",
    "#     print(\"one example of the method including jaccard similarity coefficient:\")\n",
    "#     print(key, ':', result_bc[key])\n",
    "#     break"
   ]
  }
 ],
 "metadata": {
  "kernelspec": {
   "display_name": "base",
   "language": "python",
   "name": "python3"
  },
  "language_info": {
   "codemirror_mode": {
    "name": "ipython",
    "version": 3
   },
   "file_extension": ".py",
   "mimetype": "text/x-python",
   "name": "python",
   "nbconvert_exporter": "python",
   "pygments_lexer": "ipython3",
   "version": "3.9.7"
  }
 },
 "nbformat": 4,
 "nbformat_minor": 2
}
