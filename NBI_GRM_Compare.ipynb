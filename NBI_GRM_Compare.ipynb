{
  "nbformat": 4,
  "nbformat_minor": 0,
  "metadata": {
    "colab": {
      "provenance": []
    },
    "kernelspec": {
      "name": "python3",
      "display_name": "Python 3"
    },
    "language_info": {
      "name": "python"
    }
  },
  "cells": [
    {
      "cell_type": "code",
      "source": [
        "from sklearn.base import BaseEstimator, ClassifierMixin\n",
        "import numpy as np\n",
        "import pandas as pd\n",
        "\n",
        "class NBI(BaseEstimator, ClassifierMixin):\n",
        "\n",
        "    def __init__(self):\n",
        "        pass\n",
        "\n",
        "    def fit(self, A):\n",
        "        Adj = A\n",
        "        degrees_item = Adj.sum(axis=1)\n",
        "        degrees_user = Adj.sum(axis=0)\n",
        "\n",
        "        A = np.asanyarray(A)\n",
        "        k_x = np.sum(A, axis=0, dtype=float)\n",
        "        k_y = np.sum(A, axis=1, dtype=float)\n",
        "        W = np.zeros((A.shape[1], A.shape[1])) #number of user\n",
        "        for i in range(W.shape[0]):\n",
        "          for j in range(W.shape[1]):\n",
        "            sum = 0\n",
        "            for y in range(A.shape[0]):\n",
        "              if degrees_item[y]!= 0:\n",
        "                sum = sum + (((Adj.iloc[y,j]==1)) * ((Adj.iloc[y,i]==1)) ) / degrees_user[i] / degrees_item[y]\n",
        "            W[j, i] = sum\n",
        "\n",
        "        self.W_ =W\n",
        "        return self\n",
        "\n",
        "    def predict(self, a, user_index):\n",
        "        a = np.asanyarray(a)\n",
        "        f_prime = np.sum(np.multiply(a,self.W_[user_index,:]))\n",
        "        self.y_ = f_prime\n",
        "        return self.y_\n",
        "\n",
        "#Read data\n",
        "df = pd.read_csv('/content/Magazine_Subscriptions.csv', names=['asin', 'reviewerID', 'overall', 'unixReviewTime'])\n",
        "\n",
        "\n",
        "item_degrees = df['asin'].value_counts()\n",
        "user_degrees = df['reviewerID'].value_counts()\n",
        "nodes_to_keep = set(item_degrees[item_degrees >= 1].index) | set(user_degrees[user_degrees >= 1].index)\n",
        "filtered_edges_df = df[(df['asin'].isin(nodes_to_keep)) & (df['reviewerID'].isin(nodes_to_keep))]\n",
        "\n",
        "\n",
        "\n",
        "unwanted_columns = ['overall', 'unixReviewTime']\n",
        "reduced_df = filtered_edges_df.sample(frac=0.2, random_state=32)\n",
        "reduced_df.drop(columns=unwanted_columns, inplace=True)\n",
        "\n",
        "from sklearn.model_selection import train_test_split\n",
        "train_set, test_set = train_test_split(reduced_df, test_size=0.1, random_state=42)\n",
        "\n",
        "train_edges = []\n",
        "test_edges = []\n",
        "\n",
        "train_users = set()\n",
        "test_users = set()\n",
        "\n",
        "items = set()\n",
        "\n",
        "for index, row in train_set.iterrows():\n",
        "  items.add(row['asin'])\n",
        "  train_edges.append((row['asin'], row['reviewerID']))\n",
        "  train_users.add(row['reviewerID'])\n",
        "\n",
        "for index, row in test_set.iterrows():\n",
        "  items.add(row['asin'])\n",
        "  test_edges.append((row['asin'], row['reviewerID']))\n",
        "  test_users.add(row['reviewerID'])\n",
        "\n",
        "\n",
        "df2 = pd.DataFrame(train_edges, columns=['x', 'y'])\n",
        "adj_matrix = pd.crosstab(df2['x'], df2['y'])\n",
        "#\n",
        "users_in_test = set(test_set['reviewerID'])\n",
        "common_users = users_in_test.intersection(adj_matrix.columns)\n",
        "adj_matrix_filtered = adj_matrix[common_users]\n",
        "\n",
        "\n",
        "df3 = pd.DataFrame(test_edges, columns=['x', 'y'])\n",
        "adj_matrix2 = pd.crosstab(df3['y'], df3['x'])\n",
        "adj_matrix_filtered2 = adj_matrix2.loc[common_users]\n",
        "\n",
        "#---------------------------------------------------------\n",
        "#Downside of filtering: less information about each user and items, which could effect accuracy negatively\n",
        "common_users_list = list(common_users)\n",
        "\n",
        "# Filter train_set to keep only common users\n",
        "train_set_filtered = train_set[train_set['reviewerID'].isin(common_users_list)]\n",
        "\n",
        "# Filter test_set to keep only common users\n",
        "test_set_filtered = test_set[test_set['reviewerID'].isin(common_users_list)]\n",
        "\n",
        "train_edges_filtered = []\n",
        "test_edges_filtered = []\n",
        "\n",
        "train_user_filtered = set()\n",
        "test_users_filtered = set()\n",
        "\n",
        "items_filtered = set()\n",
        "\n",
        "for index, row in train_set_filtered.iterrows():\n",
        "  items_filtered.add(row['asin'])\n",
        "  train_edges_filtered.append((row['asin'], row['reviewerID']))\n",
        "  train_user_filtered.add(row['reviewerID'])\n",
        "\n",
        "for index, row in test_set_filtered.iterrows():\n",
        "  items_filtered.add(row['asin'])\n",
        "  test_edges_filtered.append((row['asin'], row['reviewerID']))\n",
        "  test_users_filtered.add(row['reviewerID'])"
      ],
      "metadata": {
        "colab": {
          "base_uri": "https://localhost:8080/"
        },
        "id": "VSyBh9lVVst5",
        "outputId": "e34d5100-a527-4bec-9e39-ac277231403b"
      },
      "execution_count": 18,
      "outputs": [
        {
          "output_type": "stream",
          "name": "stderr",
          "text": [
            "<ipython-input-18-fc273d0bcc45>:86: FutureWarning: Passing a set as an indexer is deprecated and will raise in a future version. Use a list instead.\n",
            "  adj_matrix_filtered = adj_matrix[common_users]\n",
            "<ipython-input-18-fc273d0bcc45>:91: FutureWarning: Passing a set as an indexer is deprecated and will raise in a future version. Use a list instead.\n",
            "  adj_matrix_filtered2 = adj_matrix2.loc[common_users]\n"
          ]
        }
      ]
    },
    {
      "cell_type": "code",
      "source": [
        "# Instantiate the NBI classifier\n",
        "classifier = NBI()\n",
        "\n",
        "# Fit the model with your data\n",
        "classifier.fit(adj_matrix_filtered)\n",
        "print(classifier.W_)\n",
        "# Assuming 'new_data' is the data you want to predict on\n",
        "#predictions = classifier.predict(adj_matrix_filtered2)\n"
      ],
      "metadata": {
        "colab": {
          "base_uri": "https://localhost:8080/"
        },
        "id": "Jk16BmiLzN9l",
        "outputId": "6300e463-dd92-46bc-8a31-8ecf41396607"
      },
      "execution_count": 19,
      "outputs": [
        {
          "output_type": "stream",
          "name": "stdout",
          "text": [
            "[[0.2        0.         0.         ... 0.         0.         0.        ]\n",
            " [0.         0.33333333 0.         ... 0.         0.         0.        ]\n",
            " [0.         0.         0.5        ... 0.         0.         0.        ]\n",
            " ...\n",
            " [0.         0.         0.         ... 1.         0.         0.        ]\n",
            " [0.         0.         0.         ... 0.         1.         0.        ]\n",
            " [0.         0.         0.         ... 0.         0.         1.        ]]\n"
          ]
        }
      ]
    },
    {
      "cell_type": "code",
      "source": [
        "list_recommanded = pd.DataFrame()\n",
        "user_index = 3\n",
        "for i in range(len(adj_matrix_filtered2.columns)):\n",
        "  name_of_item = adj_matrix_filtered2.columns[i]\n",
        "  a = adj_matrix_filtered2[name_of_item]\n",
        "  score = classifier.predict(a, user_index)\n",
        "  new_row = pd.DataFrame({'Item': [name_of_item], 'Score': [score]})\n",
        "  list_recommanded = pd.concat([list_recommanded, new_row], ignore_index=True)\n",
        "sorted_list = list_recommanded.sort_values(by='Score', ascending=False)\n",
        "#print(sorted_list[1:20])"
      ],
      "metadata": {
        "id": "slgkaJqRG8nD"
      },
      "execution_count": 20,
      "outputs": []
    },
    {
      "cell_type": "code",
      "source": [
        "#NBI Method\n",
        "sum = 0\n",
        "for items in test_edges_filtered:\n",
        "  user_index = adj_matrix_filtered.columns.get_loc(items[1])\n",
        "  list_recommanded = pd.DataFrame()\n",
        "  for i in range(len(adj_matrix_filtered2.columns)):\n",
        "    name_of_item = adj_matrix_filtered2.columns[i]\n",
        "    a = adj_matrix_filtered2[name_of_item]\n",
        "    score = classifier.predict(a, user_index)\n",
        "    new_row = pd.DataFrame({'Item': [name_of_item], 'Score': [score]})\n",
        "    list_recommanded = pd.concat([list_recommanded, new_row], ignore_index=True)\n",
        "  sorted_list = list_recommanded.sort_values(by='Score', ascending=False)\n",
        "  sum = sum + (sorted_list.index[sorted_list['Item'] == items[0]][0] + 1) / len(sorted_list)\n",
        "average_hit_score = sum / len(test_edges_filtered)\n",
        "print(\"The accuracy for NBI is:\", average_hit_score)\n",
        "#print(f\"Which means the average position of some user's purchased item is about {average_hit_score*len(sorted_list)} on the recommanded list.\")"
      ],
      "metadata": {
        "colab": {
          "base_uri": "https://localhost:8080/"
        },
        "id": "BpH3VAkB7vqP",
        "outputId": "8cfa9c11-8d51-4731-e55e-6fb014d22bae"
      },
      "execution_count": 24,
      "outputs": [
        {
          "output_type": "stream",
          "name": "stdout",
          "text": [
            "The accuracy for NBI is: 0.44554031265667005\n"
          ]
        }
      ]
    }
  ]
}
